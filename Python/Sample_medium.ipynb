{
 "cells": [
  {
   "cell_type": "markdown",
   "metadata": {},
   "source": [
    "# Python_medium"
   ]
  },
  {
   "cell_type": "markdown",
   "metadata": {},
   "source": [
    "製薬企業の仕事では、化合物の構造を扱うことがよくあります。\n",
    "自社で合成した新薬候補の化合物やその代謝物、および生体内にもともと存在する内因性の代謝産物（アミノ酸、糖、脂質など）の濃度測定や構造解析をするスキルは重要です。\n",
    "\n",
    "そこでここでは、生体内に存在する脂質の網羅的解析であるLipidomics（リピドミクス）を題材としてPythonのプログラミングについて解説していきます。\n",
    "脂質は、様々な構造を持つ分子種が生体内に存在しており、*in silico*で構造を生成できる分子種は100万種を越えます。\n",
    "こうした分子種の構造を一つ一つ記述したり、分子量や極性などの物性値を算出したりするのは手作業では現実的に難しく、プログラミングが必須になります。\n",
    "\n",
    "脂質の構造や物性値をプログラミングで扱えるようになれば、新薬候補化合物を対象とするケモインフォマティクスにも応用が利きますので、是非習得してもらえればと思います。"
   ]
  },
  {
   "cell_type": "markdown",
   "metadata": {},
   "source": [
    "## 1. 変数とデータ型"
   ]
  },
  {
   "cell_type": "markdown",
   "metadata": {},
   "source": [
    "`変数 = 値`とすることで、新しい変数を作成することができます。\n",
    "\n",
    "また、`print()`を使うことで、かっこ内のオブジェクト（変数の値やプログラムの実行結果など）を出力することができます。\n",
    "\n",
    "`# `以降の文字列はコメントとして認識され、プログラムの実行範囲からは除外されます。\n",
    "スクリプトの中にメモを書いたり、エラーが出る部分を実行されないようにしたりするときに使えます。"
   ]
  },
  {
   "cell_type": "markdown",
   "metadata": {},
   "source": [
    "### 1.1. 文字列と数値"
   ]
  },
  {
   "cell_type": "code",
   "execution_count": 1,
   "metadata": {},
   "outputs": [
    {
     "name": "stdout",
     "output_type": "stream",
     "text": [
      "FA\n",
      "16\n",
      "0\n"
     ]
    }
   ],
   "source": [
    "lipid_class = 'FA' # 文字列\n",
    "Cn = 16 # 数値\n",
    "Un = 0 # 数値\n",
    "\n",
    "print(lipid_class) # 変数「lipid_class」の値を出力\n",
    "print(Cn) # 変数「Cn」の値を出力\n",
    "print(Un) # 変数「Un」の値を出力"
   ]
  },
  {
   "cell_type": "markdown",
   "metadata": {},
   "source": [
    "以下に示すように、複数の変数を1行で作成することもできます。\n",
    "\n",
    "また、`print(オブジェクト1, オブジェクト2)`とすることで、`オブジェクト1 （半角スペース）オブジェクト2`と出力されます。\n",
    "半角スペースを別の文字や記号にしたい場合は、`sep=`で変更できます。\n",
    "`sep=''`とすると、`オブジェクト1`と`オブジェクト2`がスペースなしで連結されて出力されます。"
   ]
  },
  {
   "cell_type": "code",
   "execution_count": 2,
   "metadata": {},
   "outputs": [
    {
     "name": "stdout",
     "output_type": "stream",
     "text": [
      "16\n",
      "0\n",
      "16 0\n",
      "16と0\n"
     ]
    }
   ],
   "source": [
    "Cn, Un = 16, 0 # 「Cn = 16、Un = 0」という意味\n",
    "print(Cn) # 「16」と出力される\n",
    "print(Un) # 「0」と出力される\n",
    "print(Cn, Un) # 「16 0」と出力される\n",
    "print(Cn, Un, sep='と') # 「16と0」と出力される"
   ]
  },
  {
   "cell_type": "markdown",
   "metadata": {},
   "source": [
    "変数名は基本的に英単語を使い、数字から始まる変数名をつけることはできません（2文字目以降であれば数字を使うことも可能です）。\n",
    "変数にどんな値が格納されているのか一目で分かる変数名にすると良いです。\n",
    "複数単語になる場合は、`_`（アンダースコア）で区切り、各単語は基本的には全て小文字で書きます。"
   ]
  },
  {
   "cell_type": "markdown",
   "metadata": {},
   "source": [
    "変数名をつけるときは、あらかじめPythonで定義されているキーワード（予約語）を使わないように注意する必要があります。\n",
    "予約語は、以下で確認することができます。\n",
    "（`import`など、細かいところは今のところわからなくても大丈夫です。以下のスクリプトをただコピー＆ペースとして実行して確認してもらえればと思います。）"
   ]
  },
  {
   "cell_type": "code",
   "execution_count": 3,
   "metadata": {},
   "outputs": [
    {
     "name": "stdout",
     "output_type": "stream",
     "text": [
      "['False', 'None', 'True', 'and', 'as', 'assert', 'break', 'class', 'continue',\n",
      " 'def', 'del', 'elif', 'else', 'except', 'finally', 'for', 'from', 'global',\n",
      " 'if', 'import', 'in', 'is', 'lambda', 'nonlocal', 'not', 'or', 'pass', 'raise',\n",
      " 'return', 'try', 'while', 'with', 'yield']\n"
     ]
    }
   ],
   "source": [
    "import keyword\n",
    "import pprint\n",
    "\n",
    "\n",
    "pprint.pprint(keyword.kwlist, compact=True)"
   ]
  },
  {
   "cell_type": "markdown",
   "metadata": {},
   "source": [
    "文字列は、`'`（クォーテーション）で囲む必要があります。\n",
    "逆に言うと、クォーテーションで囲まれた数字も文字列として扱われます。"
   ]
  },
  {
   "cell_type": "code",
   "execution_count": 4,
   "metadata": {},
   "outputs": [
    {
     "name": "stdout",
     "output_type": "stream",
     "text": [
      "<class 'int'>\n",
      "<class 'str'>\n"
     ]
    }
   ],
   "source": [
    "Cn_int = 16 # 数値としての「16」\n",
    "print(type(Cn_int)) # <class 'int'>\n",
    "\n",
    "Cn_str = '16' # 文字列としての「16」\n",
    "print(type(Cn_str)) # <class 'str'>"
   ]
  },
  {
   "cell_type": "markdown",
   "metadata": {},
   "source": [
    "`type`を使うことで、かっこ内のオブジェクトのデータ型を確認することができます。"
   ]
  },
  {
   "cell_type": "markdown",
   "metadata": {},
   "source": [
    "クォーテーションの中でクォーテーションを書いたり、改行したりしたい場合のために、特別な文字列（エスケープシーケンス）が用意されています。\n",
    "\n",
    "以下に例を示します。"
   ]
  },
  {
   "cell_type": "code",
   "execution_count": 5,
   "metadata": {},
   "outputs": [
    {
     "name": "stdout",
     "output_type": "stream",
     "text": [
      "molecular species: FA 16:0\n",
      "'molecular species: FA 16:0'\n",
      "molecular species: \n",
      "FA 16:0\n"
     ]
    }
   ],
   "source": [
    "print('molecular species: FA 16:0')\n",
    "print('\\'molecular species: FA 16:0\\'') # クォーテーションを入れる\n",
    "print('molecular species: \\nFA 16:0') # 改行を入れる"
   ]
  },
  {
   "cell_type": "markdown",
   "metadata": {},
   "source": [
    "上の例では、`\\'`は`'`そのものを表しています。なので、文字列を囲むクォーテーションとは別にクォーテーションが出力されます。\n",
    "\n",
    "また、`\\n`は、改行を示しています。なので、`print`による出力結果で`molecular species: `の後に改行が入ります。"
   ]
  },
  {
   "cell_type": "markdown",
   "metadata": {},
   "source": [
    "ここで、`lipid_class`という変数に格納した`FA`というのは、「fatty acid」すなわち「脂肪酸」の略です。\n",
    "`lipid_class`というのは、日本語でいうと「脂質クラス」で、脂質のカテゴリーを示します。\n",
    "\n",
    "また、`Cn`は「number of carbon atoms」すなわち炭素原子の数（炭素鎖の長さ）を、\n",
    "`Un`は「number (degree)  of unsaturation」すなわち不飽和度（二重結合の数）を示しています。\n",
    "\n",
    "脂質クラスの中でも、脂肪酸は一番単純な構造で、`Cn`と`Un`を指定すれば、構造がほぼ決まります。\n",
    "\n",
    "他の脂質クラスの多くは、グリセロールなどの骨格に脂肪酸が結合した化学構造となっていて、骨格部分が脂質クラスを特徴づけるものとなっています。\n",
    "\n",
    "脂質クラスと炭素原子数、不飽和度を組み合わせることで、脂質の分子種がほぼ決まります。\n",
    "\n",
    "そこで、`lipid_class`と`Cn`と`Un`を文字列として結合することを考えます。\n",
    "\n",
    "ちなみに、脂肪酸で炭素原子数が16、二重結合数が0の分子種はパルミチン酸（palmitic acid）になります。\n",
    "パルミチン酸の化学構造などは、以下のリンク先のページに掲載されていますので、適宜参照してください。\n",
    "\n",
    "[Palmitic acid (FA 16:0) | LIPID MAPS Structure Database](https://www.lipidmaps.org/data/LMSDRecord.php?LMID=LMFA01010001)"
   ]
  },
  {
   "cell_type": "code",
   "execution_count": 6,
   "metadata": {},
   "outputs": [
    {
     "name": "stdout",
     "output_type": "stream",
     "text": [
      "FA 16:0\n"
     ]
    }
   ],
   "source": [
    "molecular_species = lipid_class + ' ' + str(Cn) + ':' + str(Un)\n",
    "print(molecular_species) # 「FA 16:0」と出力される"
   ]
  },
  {
   "cell_type": "markdown",
   "metadata": {},
   "source": [
    "`+`を用いることで、文字列を結合させることができます。\n",
    "\n",
    "ここで、`' '`は半角スペースです。\n",
    "\n",
    "また、`str`は「string」の略で、かっこ内のオブジェクトを文字列のデータに変換します。\n",
    "ここでは、`Cn`と`Un`が数値なので、このままだと文字列として結合させることができないからです。\n",
    "\n",
    "さらに、リピドミクスの分野では、`Cn`と`Un`を`:`でつなぐのが慣習となっています。"
   ]
  },
  {
   "cell_type": "markdown",
   "metadata": {},
   "source": [
    "文字列となっている数字を数値型のデータに戻すためには、`int`または`float`を使います。\n",
    "\n",
    "`int`は「integer」の略で整数を、`float`は小数点つきの数値（浮動小数点数）を指します。"
   ]
  },
  {
   "cell_type": "code",
   "execution_count": 7,
   "metadata": {},
   "outputs": [
    {
     "name": "stdout",
     "output_type": "stream",
     "text": [
      "<class 'str'>\n",
      "<class 'int'>\n",
      "<class 'str'>\n",
      "<class 'float'>\n"
     ]
    }
   ],
   "source": [
    "Cn_str = str(Cn)\n",
    "Cn_int = int(Cn_str)\n",
    "print(type(Cn_str)) # <class 'str'>\n",
    "print(type(Cn_int)) # <class 'int'>\n",
    "\n",
    "\n",
    "exact_mass = 256.2402 # パルミチン酸の精密質量\n",
    "exact_mass_str = str(exact_mass)\n",
    "exact_mass_float = float(exact_mass_str)\n",
    "print(type(exact_mass_str)) # <class 'str'>\n",
    "print(type(exact_mass_float)) # <class 'float'>"
   ]
  },
  {
   "cell_type": "markdown",
   "metadata": {},
   "source": [
    "`+`演算子を数値のデータに対して用いる場合と、文字列のデータに対して用いる場合との違いをまとめると、以下のようになります。"
   ]
  },
  {
   "cell_type": "code",
   "execution_count": 8,
   "metadata": {},
   "outputs": [
    {
     "name": "stdout",
     "output_type": "stream",
     "text": [
      "16\n",
      "<class 'int'>\n",
      "160\n",
      "<class 'str'>\n"
     ]
    }
   ],
   "source": [
    "print(Cn + Un) # 数値の「16」\n",
    "print(type(Cn + Un))\n",
    "\n",
    "print(str(Cn) + str(Un)) # 文字列の「160」（1と6と0が並んだ文字列）\n",
    "print(type(str(Cn) + str(Un)))"
   ]
  },
  {
   "cell_type": "markdown",
   "metadata": {},
   "source": [
    "数値の変数同士を足した場合は、普通に足し算が行われますが、文字列の変数同士を足した場合は、文字列の結合になります。\n",
    "（`Cn`と`Un`を足し算することは、化学としては何の意味もありませんが、ここではプログラムの動作を示すために例として挙げています。）"
   ]
  },
  {
   "cell_type": "markdown",
   "metadata": {},
   "source": [
    "また、文字列の結合（文字列の中への変数の値の埋め込み）は、以下のように書いても行うことができます。"
   ]
  },
  {
   "cell_type": "code",
   "execution_count": 9,
   "metadata": {},
   "outputs": [
    {
     "name": "stdout",
     "output_type": "stream",
     "text": [
      "FA 16:0\n"
     ]
    }
   ],
   "source": [
    "molecular_species = '{0} {1}:{2}'.format(lipid_class, Cn, Un)\n",
    "print(molecular_species) # こちらも「FA 16:0」と出力される"
   ]
  },
  {
   "cell_type": "markdown",
   "metadata": {},
   "source": [
    "クォーテーションの中に`{}`を書いておいて、`format`のかっこ内に変数を並べておき、`{}`内の0番、1番、2番の順番で`format`のかっこ内の左の変数から埋め込まれます。\n",
    "\n",
    "プログラミングの世界では、1番ではなく、0番から連番が始まることが多いので、プログラミングを始めたての頃は注意が必要です。"
   ]
  },
  {
   "cell_type": "markdown",
   "metadata": {},
   "source": [
    "さらに、Python 3.6以降では、「f-string」といって、以下のように、より簡便な書き方で文字列に対する変数の埋め込みができるようになりました。"
   ]
  },
  {
   "cell_type": "code",
   "execution_count": 10,
   "metadata": {},
   "outputs": [
    {
     "name": "stdout",
     "output_type": "stream",
     "text": [
      "FA 16:0\n"
     ]
    }
   ],
   "source": [
    "molecular_species = f'{lipid_class} {Cn}:{Un}'\n",
    "print(molecular_species)"
   ]
  },
  {
   "cell_type": "markdown",
   "metadata": {},
   "source": [
    "最終的に作りたい文字列を`f'文字列'`としておいて、`{}`の中に変数名を入れておくだけで、`{}`の部分が指定された変数で置き換わります。"
   ]
  },
  {
   "cell_type": "markdown",
   "metadata": {},
   "source": [
    "`replace`を用いることで、特定の文字列を別の文字列に置換することができます。"
   ]
  },
  {
   "cell_type": "code",
   "execution_count": 11,
   "metadata": {},
   "outputs": [
    {
     "name": "stdout",
     "output_type": "stream",
     "text": [
      "FA 16_0\n",
      "FA16:0\n"
     ]
    }
   ],
   "source": [
    "print(molecular_species.replace(':', '_')) # 「:」（コロン）を「_」（アンダースコア）で置き換える\n",
    "\n",
    "print(molecular_species.replace(' ', '')) # 半角スペースを削除する"
   ]
  },
  {
   "cell_type": "markdown",
   "metadata": {},
   "source": [
    "化合物の構造を記述する方法として、「SMILES (simplified molecular input line entry system) 記法」というものがあります。\n",
    "\n",
    "以下のように、文字列だけで化学構造を記述することができます。"
   ]
  },
  {
   "cell_type": "code",
   "execution_count": 12,
   "metadata": {},
   "outputs": [
    {
     "name": "stdout",
     "output_type": "stream",
     "text": [
      "OC(CCCCCCCCCCCCCCC)=O\n"
     ]
    }
   ],
   "source": [
    "smiles_pa = 'OC(' + 'C' * (Cn - 1) + ')=O' # 'pa'は'palmitic acid'の略\n",
    "print(smiles_pa)"
   ]
  },
  {
   "cell_type": "markdown",
   "metadata": {},
   "source": [
    "上のように、SMILES記法では、水素原子（H）を使わずに、化学構造を記述します。\n",
    "SMILES記法なら、`Cn`の値が変わっても、自動的に分子構造を記述することができます。\n",
    "`*`は、数値の掛け算だけでなく、同じ文字列を繰り返すときにも使えます。"
   ]
  },
  {
   "cell_type": "markdown",
   "metadata": {},
   "source": [
    "次に、炭素原子数が18で、二重結合数が2のリノール酸という分子種について考えてみます。"
   ]
  },
  {
   "cell_type": "code",
   "execution_count": 13,
   "metadata": {},
   "outputs": [],
   "source": [
    "smiles_la = 'OC(CCCCCCC/C=C\\C/C=C\\CCCCC)=O' # リノール酸（linoleic acid）"
   ]
  },
  {
   "cell_type": "markdown",
   "metadata": {},
   "source": [
    "二重結合は`=`を使って記述します。\n",
    "`/`や`\\`は二重結合が*cis*なのか*trans*なのかを示し、二重結合を形成する炭素原子の前または後ろの記号が異なる向きなら*cis*、同じ向きなら*trans*となります。"
   ]
  },
  {
   "cell_type": "code",
   "execution_count": 14,
   "metadata": {},
   "outputs": [
    {
     "name": "stdout",
     "output_type": "stream",
     "text": [
      "OC(CCCCCCCC(O)CCC(O)CCCCCC)=O\n"
     ]
    }
   ],
   "source": [
    "smiles_la_oxidized = smiles_la.replace('/C=C\\C', 'C(O)CC')\n",
    "print(smiles_la_oxidized)"
   ]
  },
  {
   "cell_type": "markdown",
   "metadata": {},
   "source": [
    "このように、上でも触れた`replace`を用いて、二重結合部分の酸化を表現することができます。\n",
    "\n",
    "ちなみに、`.replace('/C=C\\', 'C(O)C')`としても置換できそうに見えますが、`'/C=C\\'`の後ろの部分の`\\'`は上でも触れたエスケープシーケンスで、文字列を閉じるためのクォーテーションが文字列中のクォーテーションと認識されてしまい、構文エラーが出てしまいます。\n",
    "なので、ここでは、右の炭素原子をもう一つ入れて、`.replace('/C=C\\C', 'C(O)CC')`としました。"
   ]
  },
  {
   "cell_type": "markdown",
   "metadata": {},
   "source": [
    "### 1.2. 真偽値"
   ]
  },
  {
   "cell_type": "markdown",
   "metadata": {},
   "source": [
    "真偽値（ブール型）は、`True`または`False`のどちらかになるデータ型を指します。\n",
    "複数の変数が同じかどうかを比較したり、ある条件が成り立つかどうかを調べたりするときに使えます。"
   ]
  },
  {
   "cell_type": "code",
   "execution_count": 15,
   "metadata": {},
   "outputs": [
    {
     "name": "stdout",
     "output_type": "stream",
     "text": [
      "True\n",
      "False\n"
     ]
    }
   ],
   "source": [
    "palmitic_acid = 'FA 16:0' # パルミチン酸（炭素数16の飽和脂肪酸）\n",
    "stearic_acid = 'FA 18:0' # ステアリン酸（炭素数18の飽和脂肪酸）\n",
    "\n",
    "print(molecular_species == palmitic_acid) # True\n",
    "print(molecular_species == stearic_acid) # False"
   ]
  },
  {
   "cell_type": "markdown",
   "metadata": {},
   "source": [
    "炭素数が16で二重結合数が0の脂肪酸は、「palmitic acid（パルミチン酸）」で、「stearic acid（ステアリン酸）」ではないということになります。"
   ]
  },
  {
   "cell_type": "markdown",
   "metadata": {},
   "source": [
    "## 2. データ構造"
   ]
  },
  {
   "cell_type": "markdown",
   "metadata": {},
   "source": [
    "### 2.1. リスト"
   ]
  },
  {
   "cell_type": "markdown",
   "metadata": {},
   "source": [
    "リスト（list）は、複数の要素を格納したデータ型で、`リスト名 = [要素1, 要素2, ・・・]`で作ることができます。\n",
    "以下の例は文字列のみを格納したリストですが、数値や真偽値を入れることもできますし、同じ値の要素を複数入れたり、複数のデータ型を混在させたりすることもできます。\n",
    "\n",
    "リストの中の要素は、`リスト名[インデックス番号]`で値を参照することができます。\n",
    "インデックス番号は`1`からではなく、`0`から始まることに注意する必要があります。"
   ]
  },
  {
   "cell_type": "code",
   "execution_count": 16,
   "metadata": {},
   "outputs": [
    {
     "name": "stdout",
     "output_type": "stream",
     "text": [
      "FA 16:0\n",
      "FA 18:0\n",
      "FA 18:3\n",
      "['FA 18:1', 'FA 18:2']\n",
      "['FA 18:2', 'FA 18:3']\n",
      "['FA 16:0', 'FA 18:0', 'FA 18:1']\n",
      "['FA 16:0', 'FA 18:0', 'FA 18:1']\n"
     ]
    }
   ],
   "source": [
    "fatty_acids = ['FA 16:0', 'FA 18:0', 'FA 18:1', 'FA 18:2', 'FA 18:3']\n",
    "\n",
    "print(fatty_acids[0]) # 1番目（最初）の要素\n",
    "print(fatty_acids[1]) # 2番目の要素\n",
    "print(fatty_acids[-1]) # 後ろから1番目（最後）の要素\n",
    "print(fatty_acids[2:4]) # 3番目から4番目の要素\n",
    "print(fatty_acids[3:]) # 4番目以降の要素\n",
    "print(fatty_acids[:3]) # 4番目までの要素\n",
    "print(fatty_acids[:-2]) # 後ろから2番目までの要素"
   ]
  },
  {
   "cell_type": "markdown",
   "metadata": {},
   "source": [
    "`リスト名[インデックス番号] = 値`とすることで、指定したインデックス番号の要素の値を更新することができます。"
   ]
  },
  {
   "cell_type": "code",
   "execution_count": 17,
   "metadata": {},
   "outputs": [
    {
     "name": "stdout",
     "output_type": "stream",
     "text": [
      "['FA 16:0', 'FA 18:0', 'FA 18:1', 'FA 18:2 (6Z, 9Z)', 'FA 18:3']\n"
     ]
    }
   ],
   "source": [
    "fatty_acids[3] = 'FA 18:2 (6Z, 9Z)'\n",
    "print(fatty_acids)"
   ]
  },
  {
   "cell_type": "markdown",
   "metadata": {},
   "source": [
    "ちなみに、`(6Z, 9Z)`は、二重結合の位置と様式を表しています。`6`と`9`はカルボン酸とは反対側の炭素原子から数えて何番目の炭素原子が二重結合を形成しているかを示し、`Z`というのは二重結合が*cis*であることを示しています。`E`だと*trans*ということになります。\n",
    "\n",
    "リノール酸の構造など詳しくは、以下のリンク先を見てください。\n",
    "\n",
    "[Linoleic acid (FA 18:2)](http://www.lipidmaps.org/data/LMSDRecord.php?LMID=LMFA01030120)\n",
    "\n",
    "二重結合がある場合は、本来であれば上記のように二重結合の位置や結合様式を明示する必要があるわけですが、少し長くなってしまうので、以降では省略することとします。"
   ]
  },
  {
   "cell_type": "markdown",
   "metadata": {},
   "source": [
    "リストに含まれる要素の数は`len`で確認することができます。\n",
    "ちなみに、`len`は「length」の略です。"
   ]
  },
  {
   "cell_type": "code",
   "execution_count": 18,
   "metadata": {},
   "outputs": [
    {
     "name": "stdout",
     "output_type": "stream",
     "text": [
      "5\n"
     ]
    }
   ],
   "source": [
    "print(len(fatty_acids))"
   ]
  },
  {
   "cell_type": "markdown",
   "metadata": {},
   "source": [
    "リストの演算でよく使うのは、`+`と`*`です。\n",
    "`+`でリスト同士を結合することができ、`*`で同じ要素を指定個数持つリストを作成することができます。"
   ]
  },
  {
   "cell_type": "code",
   "execution_count": 19,
   "metadata": {},
   "outputs": [
    {
     "name": "stdout",
     "output_type": "stream",
     "text": [
      "['FA 16:0', 'FA 18:0', 'FA 18:1', 'FA 18:2', 'FA 18:3']\n",
      "[16, 18, 18, 18, 18]\n"
     ]
    }
   ],
   "source": [
    "saturated_fatty_acids = ['FA 16:0', 'FA 18:0'] # 飽和脂肪酸（二重結合がない脂肪酸）\n",
    "unsaturated_fatty_acids = ['FA 18:1', 'FA 18:2', 'FA 18:3'] # 不飽和脂肪酸（二重結合がある脂肪酸）\n",
    "fatty_acids = saturated_fatty_acids + unsaturated_fatty_acids # リストの結合\n",
    "print(fatty_acids)\n",
    "\n",
    "number_carbons = [16] + [18]*4 # リストの結合と複製\n",
    "print(number_carbons)"
   ]
  },
  {
   "cell_type": "markdown",
   "metadata": {},
   "source": [
    "`number_carbons`は、リスト`fatty_acids`の炭素原子数だけ取り出したものになっています。\n",
    "`fatty_acids`には、炭素原子数18の分子種が4つ含まれているので、`*`で複製しています。"
   ]
  },
  {
   "cell_type": "markdown",
   "metadata": {},
   "source": [
    "リストでよく使うメソッドを以下で紹介します。"
   ]
  },
  {
   "cell_type": "code",
   "execution_count": 20,
   "metadata": {},
   "outputs": [
    {
     "name": "stdout",
     "output_type": "stream",
     "text": [
      "['FA 16:0', 'FA 18:0', 'FA 18:1', 'FA 18:2', 'FA 18:3']\n",
      "['FA 16:0', 'FA 18:0', 'FA 18:1', 'FA 18:2', 'FA 18:3', 'FA 20:4']\n",
      "['FA 16:0', 'FA 18:0', 'FA 18:1', 'FA 18:2', 'FA 18:3', 'FA 20:4', 'FA 20:5', 'FA 22:6']\n",
      "['FA 16:0', 'FA 16:1', 'FA 18:0', 'FA 18:1', 'FA 18:2', 'FA 18:3', 'FA 20:4', 'FA 20:5', 'FA 22:6']\n",
      "['FA 16:0', 'FA 16:1', 'FA 18:0', 'FA 18:1', 'FA 18:2', 'FA 20:4', 'FA 20:5', 'FA 22:6']\n",
      "FA 22:6\n",
      "FA 18:0\n",
      "['FA 20:5', 'FA 20:4', 'FA 18:2', 'FA 18:1', 'FA 16:1', 'FA 16:0']\n",
      "['FA 16:0', 'FA 16:1', 'FA 18:1', 'FA 18:2', 'FA 20:4', 'FA 20:5']\n",
      "3\n",
      "1\n"
     ]
    }
   ],
   "source": [
    "fatty_acids = ['FA 16:0', 'FA 18:0', 'FA 18:1', 'FA 18:2', 'FA 18:3']\n",
    "\n",
    "fatty_acids_copy = fatty_acids.copy() # コピーを作成\n",
    "print(fatty_acids_copy)\n",
    "\n",
    "fatty_acids.append('FA 20:4') # 末尾に要素を追加\n",
    "print(fatty_acids)\n",
    "\n",
    "fatty_acids.extend(['FA 20:5', 'FA 22:6']) # 末尾に要素（複数）を追加\n",
    "print(fatty_acids)\n",
    "\n",
    "fatty_acids.insert(1, 'FA 16:1') # 指定したインデックス番号に要素を追加\n",
    "print(fatty_acids)\n",
    "\n",
    "fatty_acids.remove('FA 18:3') # 指定した要素を削除\n",
    "print(fatty_acids)\n",
    "\n",
    "print(fatty_acids.pop()) # 最後の要素を削除し、削除した要素を出力\n",
    "\n",
    "print(fatty_acids.pop(2)) # 3番目の要素を削除し、削除した要素を出力\n",
    "\n",
    "fatty_acids.sort(key=None, reverse=True) # 要素を降順に並び替え\n",
    "print(fatty_acids)\n",
    "\n",
    "fatty_acids.sort(key=None, reverse=False) # 要素を昇順に並び替え\n",
    "print(fatty_acids)\n",
    "\n",
    "print(fatty_acids.index('FA 18:2')) # 指定した要素のインデックス番号\n",
    "print(fatty_acids.count('FA 18:2')) # 指定した要素の個数"
   ]
  },
  {
   "cell_type": "markdown",
   "metadata": {},
   "source": [
    "`.extend(['FA 20:5', 'FA 22:6')`は、`.append(['FA 20:5', 'FA 22:6'])`と書いても良さそうですが、実行結果が変わってきます。\n",
    "`extend`を使った場合は、`'FA 20:5'`と`'FA 22:6'`という2つの要素が追加されますが、`append`を使った場合は、`['FA 20:5', 'FA 22:6']`というリストが1つの要素として追加されます。つまり、`append`を使った場合は、リストの中にリストが含まれるという状態になるわけです。\n",
    "\n",
    "`append`と`extend`の使い分けには注意が必要です。"
   ]
  },
  {
   "cell_type": "markdown",
   "metadata": {},
   "source": [
    "文字列もリストと同じように扱うことができます。文字列を単一文字のリストと考えて、前から5文字目を参照する、といったことができます。"
   ]
  },
  {
   "cell_type": "code",
   "execution_count": 21,
   "metadata": {},
   "outputs": [
    {
     "name": "stdout",
     "output_type": "stream",
     "text": [
      "FA 16:0\n",
      "F\n",
      "7\n",
      "FA\n",
      "16\n",
      "0\n"
     ]
    }
   ],
   "source": [
    "palmitic_acid = fatty_acids[0] # リスト「fatty_acid」の1番目の要素\n",
    "print(palmitic_acid) # FA 16:0\n",
    "print(palmitic_acid[0]) # 「FA 16:0」という文字列の1文字目、すなわち「F」\n",
    "print(len(palmitic_acid)) # 文字数\n",
    "\n",
    "lipid_class = palmitic_acid[0:2]\n",
    "print(lipid_class) # FA\n",
    "Cn = int(palmitic_acid[3:5])\n",
    "print(Cn) # 16（数値）\n",
    "Un = int(palmitic_acid[6])\n",
    "print(Un) # 0（数値）"
   ]
  },
  {
   "cell_type": "markdown",
   "metadata": {},
   "source": [
    "応用編として、SMILES記法で脂肪酸の炭素原子や二重結合の数を数えるということを考えます。"
   ]
  },
  {
   "cell_type": "code",
   "execution_count": 22,
   "metadata": {},
   "outputs": [
    {
     "name": "stdout",
     "output_type": "stream",
     "text": [
      "FA 18:2\n"
     ]
    }
   ],
   "source": [
    "smiles_la = 'OC(CCCCCCC/C=C\\C/C=C\\CCCCC)=O' # リノール酸のSMILES\n",
    "\n",
    "Cn = smiles_la.count('C') # 炭素原子の数\n",
    "Un = smiles_la.count('=') - 1 # 炭素鎖の中の二重結合の数\n",
    "\n",
    "linoleic_acid = f'FA {Cn}:{Un}' # f-string\n",
    "print(linoleic_acid)"
   ]
  },
  {
   "cell_type": "markdown",
   "metadata": {},
   "source": [
    "### 2.2. タプル"
   ]
  },
  {
   "cell_type": "markdown",
   "metadata": {},
   "source": [
    "タプル（tupple）はリストに似たデータ型で、`タプル名 = (要素1, 要素2, ・・・)`で作ることができます。\n",
    "リストと同様に、`タプル名[インデックス番号]`で値を参照することはできますが、値の更新をすることはできません。\n",
    "\n",
    "なので、値を書き換えたくないデータを配列にしたい場合は、タプルを使うと良いです。"
   ]
  },
  {
   "cell_type": "code",
   "execution_count": 23,
   "metadata": {},
   "outputs": [
    {
     "name": "stdout",
     "output_type": "stream",
     "text": [
      "FA 16:0\n",
      "FA 18:0\n",
      "FA 18:3\n",
      "('FA 18:1', 'FA 18:2')\n",
      "('FA 18:2', 'FA 18:3')\n",
      "('FA 16:0', 'FA 18:0', 'FA 18:1')\n",
      "('FA 16:0', 'FA 18:0', 'FA 18:1')\n"
     ]
    }
   ],
   "source": [
    "fatty_acids = ('FA 16:0', 'FA 18:0', 'FA 18:1', 'FA 18:2', 'FA 18:3')\n",
    "\n",
    "print(fatty_acids[0]) # 1番目の要素\n",
    "print(fatty_acids[1]) # 2番目の要素\n",
    "print(fatty_acids[-1]) # 後ろから1番目の要素\n",
    "print(fatty_acids[2:4]) # 3番目から4番目の要素\n",
    "print(fatty_acids[3:]) # 4番目以降の要素\n",
    "print(fatty_acids[:3]) # 4番目までの要素\n",
    "print(fatty_acids[:-2]) # 後ろから2番目までの要素"
   ]
  },
  {
   "cell_type": "markdown",
   "metadata": {},
   "source": [
    "### 2.3. 辞書"
   ]
  },
  {
   "cell_type": "markdown",
   "metadata": {},
   "source": [
    "辞書（dictionary）というのは、「キー」と「値」を1対1に対応させ、このキーと値の組合せを配列にしたものです。\n",
    "`辞書名 = {キー1: 値1, キー2: 値2, ・・・}`で作成することができます。"
   ]
  },
  {
   "cell_type": "code",
   "execution_count": 24,
   "metadata": {},
   "outputs": [],
   "source": [
    "Cn = 18 # 脂肪酸の炭素原子数（鎖長）\n",
    "Un = 2 # 二重結合数（不飽和度）\n",
    "\n",
    "num_C = Cn # 分子全体の炭素原子数\n",
    "num_H = Cn * 2 - Un * 2 # 分子全体の水素原子の数\n",
    "num_O = 2 # 分子全体の酸素原子の数\n",
    "\n",
    "molecular_formula = {'C': num_C, 'H': num_H, 'O': num_O}"
   ]
  },
  {
   "cell_type": "markdown",
   "metadata": {},
   "source": [
    "上の例では、元素記号をキーに、原子数を値とした辞書を作成しています。\n",
    "辞書に含まれる全てのキーや値を参照するには、以下のようにします。"
   ]
  },
  {
   "cell_type": "code",
   "execution_count": 25,
   "metadata": {},
   "outputs": [
    {
     "name": "stdout",
     "output_type": "stream",
     "text": [
      "dict_keys(['C', 'H', 'O'])\n",
      "dict_values([18, 32, 2])\n",
      "dict_items([('C', 18), ('H', 32), ('O', 2)])\n"
     ]
    }
   ],
   "source": [
    "print(molecular_formula.keys()) # キーのリスト\n",
    "print(molecular_formula.values()) # 値のリスト\n",
    "print(molecular_formula.items()) # キーと値のタプルのリスト"
   ]
  },
  {
   "cell_type": "markdown",
   "metadata": {},
   "source": [
    "`辞書名[キー] = 値`とすると、辞書の中にキーが既にあった場合は値が更新され、キーがなかった場合は新しくキーと値が追加されます。"
   ]
  },
  {
   "cell_type": "code",
   "execution_count": 26,
   "metadata": {},
   "outputs": [
    {
     "name": "stdout",
     "output_type": "stream",
     "text": [
      "{'C': 16, 'H': 32, 'O': 2, 'N': 0}\n"
     ]
    }
   ],
   "source": [
    "molecular_formula['C'] = 16 # 値の書き換え\n",
    "molecular_formula['H'] = 32 # 値の書き換え\n",
    "molecular_formula['N'] = 0 # 新たなキーと値の追加\n",
    "print(molecular_formula)"
   ]
  },
  {
   "cell_type": "markdown",
   "metadata": {},
   "source": [
    "### 2.4. 集合"
   ]
  },
  {
   "cell_type": "markdown",
   "metadata": {},
   "source": [
    "集合（set）は、`集合名 = {}`で作成することができます。\n",
    "順番といった概念はなく、インデックス番号で要素を指定せずに、特定の要素があるかないかなどを判定するときに使います。"
   ]
  },
  {
   "cell_type": "code",
   "execution_count": 27,
   "metadata": {},
   "outputs": [],
   "source": [
    "fatty_acids = {'FA 16:0', 'FA 18:0', 'FA 18:1', 'FA 18:2', 'FA 18:3'}"
   ]
  },
  {
   "cell_type": "markdown",
   "metadata": {},
   "source": [
    "## 3. 制御文"
   ]
  },
  {
   "cell_type": "markdown",
   "metadata": {},
   "source": [
    "### 3.1. 条件分岐"
   ]
  },
  {
   "cell_type": "markdown",
   "metadata": {},
   "source": [
    "#### 3.1.1. if文"
   ]
  },
  {
   "cell_type": "markdown",
   "metadata": {},
   "source": [
    "`if 条件式:`として、次の行に、条件式が成り立つときの処理を記述します。\n",
    "`if`の次の行は、半角4文字分インデントして書き始めます。"
   ]
  },
  {
   "cell_type": "code",
   "execution_count": 28,
   "metadata": {},
   "outputs": [
    {
     "name": "stdout",
     "output_type": "stream",
     "text": [
      "saturated fatty acid\n"
     ]
    }
   ],
   "source": [
    "Un = 0\n",
    "\n",
    "if Un == 0:\n",
    "    print('saturated fatty acid')\n",
    "else:\n",
    "    print('unsaturated fatty acid')"
   ]
  },
  {
   "cell_type": "markdown",
   "metadata": {},
   "source": [
    "`else`は、`if`に続く条件式が成り立たなかった場合の処理を記述するために使います。さらに細かく条件を分けたい場合は、`elif 条件式:`とすることで、別の条件が成り立つ場合の処理を記述することができます。ちなみに、`elif`は、「else if」の略です。\n",
    "\n",
    "上のプログラムでは、不飽和度（脂肪酸の二重結合の数）を示す変数`Un`が0だった場合は、`saturated fatty acid`（飽和脂肪酸）と出力し、`Un`が0以外の数値だった場合は、`unsaturated fatty acid`（不飽和脂肪酸）と出力するようにしています。"
   ]
  },
  {
   "cell_type": "markdown",
   "metadata": {},
   "source": [
    "また、条件式の部分は複数の条件を指定することも可能です。"
   ]
  },
  {
   "cell_type": "code",
   "execution_count": 29,
   "metadata": {},
   "outputs": [
    {
     "name": "stdout",
     "output_type": "stream",
     "text": [
      "stearic acid\n"
     ]
    }
   ],
   "source": [
    "Cn = 18\n",
    "Un = 0\n",
    "\n",
    "if Cn == 16 and Un == 0:\n",
    "    print('palmitic acid')\n",
    "elif Cn == 18 and Un == 0:\n",
    "    print('stearic acid')\n",
    "else:\n",
    "    print('other fatty acid')"
   ]
  },
  {
   "cell_type": "markdown",
   "metadata": {},
   "source": [
    "`and`は「かつ」という意味です。\n",
    "「または」にしたい場合は`or`を用います。"
   ]
  },
  {
   "cell_type": "markdown",
   "metadata": {},
   "source": [
    "`in`演算子を用いると、リストに含まれる要素かどうかを判定することができます。"
   ]
  },
  {
   "cell_type": "code",
   "execution_count": 30,
   "metadata": {},
   "outputs": [
    {
     "name": "stdout",
     "output_type": "stream",
     "text": [
      "Palmitic acid is included\n"
     ]
    }
   ],
   "source": [
    "fatty_acids = ['FA 16:0', 'FA 18:0', 'FA 18:1']\n",
    "\n",
    "if 'FA 16:0' in fatty_acids:\n",
    "    print('Palmitic acid is included')\n",
    "else:\n",
    "    print('Palmitic acid is not included')"
   ]
  },
  {
   "cell_type": "markdown",
   "metadata": {},
   "source": [
    "最後に応用編として、SMILES記法で記述された化学構造から、飽和脂肪酸なのか不飽和脂肪酸なのかを判定することを考えてみます。"
   ]
  },
  {
   "cell_type": "code",
   "execution_count": 31,
   "metadata": {},
   "outputs": [
    {
     "name": "stdout",
     "output_type": "stream",
     "text": [
      "saturated fatty acid\n"
     ]
    }
   ],
   "source": [
    "smiles_fa = 'OC(CCCCCCCCCCCCCCC)=O'\n",
    "\n",
    "if smiles_fa.count('=') <= 1:\n",
    "    print('saturated fatty acid')\n",
    "else:\n",
    "    print('unsaturated fatty acid')"
   ]
  },
  {
   "cell_type": "markdown",
   "metadata": {},
   "source": [
    "不飽和脂肪酸かどうかは、炭素鎖の中に二重結合が含まれるかどうかで判定することができます。\n",
    "カルボン酸部分にも二重結合はあるので、上のプログラムではそれ以外に二重結合があるかどうかを判定しています。"
   ]
  },
  {
   "cell_type": "markdown",
   "metadata": {},
   "source": [
    "### 3.2. 反復処理"
   ]
  },
  {
   "cell_type": "markdown",
   "metadata": {},
   "source": [
    "#### 3.2.1. for文"
   ]
  },
  {
   "cell_type": "markdown",
   "metadata": {},
   "source": [
    "`for`は、あらかじめ決まった回数だけ反復処理を行うときに使えます。\n",
    "`for 変数 in イテラブル（リストなど）:`として、改行して半角スペース4つ分インデントして処理内容を記述します。"
   ]
  },
  {
   "cell_type": "code",
   "execution_count": 32,
   "metadata": {},
   "outputs": [
    {
     "name": "stdout",
     "output_type": "stream",
     "text": [
      "16:0\n",
      "18:0\n",
      "20:0\n",
      "22:0\n",
      "24:0\n"
     ]
    }
   ],
   "source": [
    "carbon_numbers = [16, 18, 20, 22, 24]\n",
    "\n",
    "for Cn in carbon_numbers:\n",
    "    print(Cn, 0, sep=':')"
   ]
  },
  {
   "cell_type": "markdown",
   "metadata": {},
   "source": [
    "上の例では、`carbon numbers`を脂肪酸の炭素原子数（鎖長）のリストとして、それぞれに対応する飽和脂肪酸の略号を作成しています。"
   ]
  },
  {
   "cell_type": "markdown",
   "metadata": {},
   "source": [
    "また、イテラブルとして`range`を使うこともできます。\n",
    "`range`は、指定した範囲の連続した整数のリストのようなイメージです。"
   ]
  },
  {
   "cell_type": "code",
   "execution_count": 33,
   "metadata": {},
   "outputs": [
    {
     "name": "stdout",
     "output_type": "stream",
     "text": [
      "22:4\n",
      "22:5\n",
      "22:6\n",
      "22:0\n",
      "22:1\n",
      "22:2\n",
      "22:3\n",
      "22:4\n",
      "22:5\n",
      "22:6\n"
     ]
    }
   ],
   "source": [
    "Cn = 22\n",
    "\n",
    "for Un in range(4, 7):\n",
    "    print(Cn, Un, sep=':')\n",
    "    \n",
    "for Un in range(7):\n",
    "    print(Cn, Un, sep=':')"
   ]
  },
  {
   "cell_type": "markdown",
   "metadata": {},
   "source": [
    "上の例では、`range(4, 7)`は4から6までの連続した整数（4, 5, 6）を示します。\n",
    "また、`range(7)`と書くと、0から6までの連続した整数（0, 1, 2, 3, 4, 5, 6）を指すことになります。\n",
    "\n",
    "ここでは、脂肪酸の不飽和度（炭素鎖における二重結合数）を示す数値を生成しています。"
   ]
  },
  {
   "cell_type": "markdown",
   "metadata": {},
   "source": [
    "さらに、以下のように、`enumerate`を使うことで、イテラブルのインデックス番号と要素を取り出すことができます。"
   ]
  },
  {
   "cell_type": "code",
   "execution_count": 34,
   "metadata": {},
   "outputs": [
    {
     "name": "stdout",
     "output_type": "stream",
     "text": [
      "FA 16:0\n",
      "FA 18:0\n",
      "FA 18:1\n",
      "0: FA 16:0\n",
      "1: FA 18:0\n",
      "2: FA 18:1\n"
     ]
    }
   ],
   "source": [
    "fatty_acids = ['FA 16:0', 'FA 18:0', 'FA 18:1']\n",
    "\n",
    "for fatty_acid in fatty_acids:\n",
    "    print(fatty_acid)\n",
    "\n",
    "for i, fatty_acid in enumerate(fatty_acids):\n",
    "    print(f'{i}: {fatty_acid}')"
   ]
  },
  {
   "cell_type": "markdown",
   "metadata": {},
   "source": [
    "上の例では、`i`にリスト`fatty_acids`のインデックス番号を、`fatty_acid`にリスト`fatty_acids`の要素の値を順番に格納していき、`print`で出力するという処理になっています。"
   ]
  },
  {
   "cell_type": "markdown",
   "metadata": {},
   "source": [
    "辞書に対しても`for`を使った反復処理を行うことができます。\n",
    "以下に例を示します。"
   ]
  },
  {
   "cell_type": "code",
   "execution_count": 35,
   "metadata": {},
   "outputs": [
    {
     "name": "stdout",
     "output_type": "stream",
     "text": [
      "Palmitic acid\n",
      "Stearic acid\n",
      "Oleic acid\n",
      "FA 16:0\n",
      "FA 18:0\n",
      "FA 18:1\n",
      "Palmitic acid is FA 16:0\n",
      "Stearic acid is FA 18:0\n",
      "Oleic acid is FA 18:1\n",
      "256.24038\n",
      "16:0\n",
      "16:1\n",
      "18:0\n",
      "18:1\n",
      "18:2\n",
      "18:3\n",
      "18:4\n",
      "20:0\n",
      "20:3\n",
      "20:4\n",
      "20:5\n",
      "22:0\n",
      "22:4\n",
      "22:5\n",
      "22:6\n"
     ]
    }
   ],
   "source": [
    "fatty_acids = {'Palmitic acid': 'FA 16:0', 'Stearic acid': 'FA 18:0', 'Oleic acid': 'FA 18:1'} # 脂肪酸名（common name）と略号\n",
    "\n",
    "for key in fatty_acids.keys(): # 辞書のキー\n",
    "    print(key)\n",
    "    \n",
    "for value in fatty_acids.values(): # 辞書の値\n",
    "    print(value)\n",
    "    \n",
    "for key, value in fatty_acids.items(): # 辞書のキーと値\n",
    "    print(f'{key} is {value}')\n",
    "\n",
    "    \n",
    "exact_mass = {'C': 12, 'H': 1.00783, 'O': 15.99491} # 元素記号と原子量\n",
    "formula_pa = {'C': 16, 'H': 32, 'O': 2} # 元素記号と原子数（組成式）\n",
    "em_pa = 0\n",
    "\n",
    "for key, value in formula_pa.items():\n",
    "    em_pa += exact_mass[key] * value # 原子量と原子数を掛け算\n",
    "print(em_pa)\n",
    "\n",
    "\n",
    "fatty_acids = {16: [0, 1], 18: [0, 1, 2, 3, 4], 20: [0, 3, 4, 5], 22: [0, 4, 5, 6]} # 脂肪酸の炭素原子数をキーに、二重結合数を値とした辞書\n",
    "\n",
    "for Cn, Uns in fatty_acids.items():\n",
    "    for Un in Uns:\n",
    "        print(Cn, Un, sep=':')"
   ]
  },
  {
   "cell_type": "markdown",
   "metadata": {},
   "source": [
    "ここで、`a = a + n`は、`a += n`と書くことができます。`em_pa += exact_mass[key] * value`の部分は、原子ごとに原子量と原子数を掛け合わせて、精密質量を計算する変数`em_pa`に足し合わせるということを意味しています。"
   ]
  },
  {
   "cell_type": "markdown",
   "metadata": {},
   "source": [
    "もちろん、`if`と組み合わせることもできます。"
   ]
  },
  {
   "cell_type": "code",
   "execution_count": 36,
   "metadata": {},
   "outputs": [
    {
     "name": "stdout",
     "output_type": "stream",
     "text": [
      "['FA 16:0', 'FA 18:0', 'FA 24:0']\n",
      "['FA 18:1', 'FA 18:2', 'FA 20:4', 'FA 22:6']\n"
     ]
    }
   ],
   "source": [
    "fatty_acids = ['FA 16:0', 'FA 18:0', 'FA 18:1', 'FA 18:2', 'FA 20:4', 'FA 22:6', 'FA 24:0']\n",
    "\n",
    "saturated_fatty_acids = [] # 空のリスト（この後の処理で値を入れていく）\n",
    "unsaturated_fatty_acids = [] # 空のリスト（この後の処理で値を入れていく）\n",
    "\n",
    "for fatty_acid in fatty_acids:\n",
    "    if fatty_acid[-1] == '0':\n",
    "        saturated_fatty_acids.append(fatty_acid) # 飽和脂肪酸\n",
    "    else:\n",
    "        unsaturated_fatty_acids.append(fatty_acid) # 不飽和脂肪酸\n",
    "        \n",
    "print(saturated_fatty_acids)\n",
    "print(unsaturated_fatty_acids)"
   ]
  },
  {
   "cell_type": "markdown",
   "metadata": {},
   "source": [
    "また、以下のように`break`を使うと反復処理を中断します。\n",
    "`else`は`break`されずに反復処理が終了した場合に行われる処理を記述するのに使います。\n",
    "`else`はなくても問題ありません。"
   ]
  },
  {
   "cell_type": "code",
   "execution_count": 37,
   "metadata": {},
   "outputs": [
    {
     "name": "stdout",
     "output_type": "stream",
     "text": [
      "FA 16:0\n",
      "FA 18:0\n",
      "空です。処理を中止します。\n"
     ]
    }
   ],
   "source": [
    "fatty_acids = ['FA 16:0', 'FA 18:0', '', 'FA 18:1']\n",
    "\n",
    "for fatty_acid in fatty_acids:\n",
    "    if fatty_acid == '':\n",
    "        print('空です。処理を中止します。')\n",
    "        break\n",
    "    print(fatty_acid) # 「FA 18:0」まで出力される\n",
    "else:\n",
    "        print('処理が最後まで完了しました。') # ここでは出力されない"
   ]
  },
  {
   "cell_type": "markdown",
   "metadata": {},
   "source": [
    "上の例では、リスト`fatty_acids`の左から3番目の要素が空となっているため、その前の要素まで反復処理が行われ、要素の値が出力されます。\n",
    "今回の例では、`break`により、処理が途中で中断されるため`else`以下は実行されません。"
   ]
  },
  {
   "cell_type": "markdown",
   "metadata": {},
   "source": [
    "一方、`continue`を使うと、反復処理がスキップされます。"
   ]
  },
  {
   "cell_type": "code",
   "execution_count": 38,
   "metadata": {},
   "outputs": [
    {
     "name": "stdout",
     "output_type": "stream",
     "text": [
      "FA 16:0\n",
      "FA 18:0\n",
      "空です。スキップします。\n",
      "FA 18:1\n"
     ]
    }
   ],
   "source": [
    "fatty_acids = ['FA 16:0', 'FA 18:0', '', 'FA 18:1']\n",
    "\n",
    "for fatty_acid in fatty_acids:\n",
    "    if fatty_acid == '':\n",
    "        print('空です。スキップします。')\n",
    "        continue\n",
    "    print(fatty_acid) # 空の要素は飛ばして「FA 18:1」まで出力される"
   ]
  },
  {
   "cell_type": "markdown",
   "metadata": {},
   "source": [
    "上の例では、空白の要素は`continue`によって処理がスキップされるため、要素の値が出力されることはありませんが、最後まで処理が行われ、「FA 18:1」も出力されます。\n",
    "仮に、`else`を入れた場合は、`else`以下も実行されます。"
   ]
  },
  {
   "cell_type": "markdown",
   "metadata": {},
   "source": [
    "ここで応用編として、SMILES記法で書かれた文字列から、炭素原子の数と、炭素鎖の二重結合の数を求めることを考えます。"
   ]
  },
  {
   "cell_type": "code",
   "execution_count": 39,
   "metadata": {},
   "outputs": [
    {
     "name": "stdout",
     "output_type": "stream",
     "text": [
      "18:2\n"
     ]
    }
   ],
   "source": [
    "smiles_fa = 'OC(CCCCCCC/C=C\\C/C=C\\CCCCC)=O'\n",
    "\n",
    "Cn = 0\n",
    "Un = 0\n",
    "\n",
    "for i in range(len(smiles_fa)):\n",
    "    if smiles_fa[i] == 'C':\n",
    "        Cn += 1\n",
    "    elif smiles_fa[i] == '=' and smiles_fa[i+1] == 'C':\n",
    "        Un += 1\n",
    "\n",
    "print(Cn, Un, sep=':')"
   ]
  },
  {
   "cell_type": "markdown",
   "metadata": {},
   "source": [
    "左から文字列を見て行って、`C`だった場合は炭素原子数を数える変数`Cn`を1大きくし、`=`で次の文字が`C`だった場合（カルボニル炭素もあるため）に二重結合数を数える変数`Un`を1大きくしています。"
   ]
  },
  {
   "cell_type": "markdown",
   "metadata": {},
   "source": [
    "#### 3.2.2. while文"
   ]
  },
  {
   "cell_type": "markdown",
   "metadata": {},
   "source": [
    "`while`を使うと、指定した条件が成立する限り、反復処理を行います。\n",
    "`while 条件:`として改行して半角スペース4つ分インデントして処理を記述します。"
   ]
  },
  {
   "cell_type": "code",
   "execution_count": 40,
   "metadata": {},
   "outputs": [
    {
     "name": "stdout",
     "output_type": "stream",
     "text": [
      "['FA 18:0', 'FA 16:0', 'FA 22:6', 'FA 20:4', 'FA 18:3', 'FA 18:2', 'FA 18:1']\n"
     ]
    }
   ],
   "source": [
    "saturated_fatty_acids = ['FA 16:0', 'FA 18:0']\n",
    "unsaturated_fatty_acids = ['FA 18:1', 'FA 18:2', 'FA 18:3', 'FA 20:4', 'FA 22:6']\n",
    "\n",
    "fatty_acids = []\n",
    "\n",
    "while len(saturated_fatty_acids) > 0:\n",
    "    fatty_acids.append(saturated_fatty_acids[-1])\n",
    "    saturated_fatty_acids.pop()\n",
    "\n",
    "while len(unsaturated_fatty_acids) > 0:\n",
    "    fatty_acids.append(unsaturated_fatty_acids[-1])\n",
    "    unsaturated_fatty_acids.pop()\n",
    "\n",
    "print(fatty_acids)"
   ]
  },
  {
   "cell_type": "markdown",
   "metadata": {},
   "source": [
    "上の例では、元々あるリスト`saturated_fatty_acids`と`unsaturated_fatty_acids`の後ろから要素を取り出して新しい空のリスト`fatty_acids`に移し替えるという処理をしています。\n",
    "ここで、`len(リスト) > 0`はリストに何らかの要素が含まれている場合を指します。`fatty_acids`に要素を移した後は、`pop`で元のリストからは要素を削除するようにしています。この削除を忘れると、処理が無限回繰り返される（無限ループになる）ので注意が必要です。"
   ]
  },
  {
   "cell_type": "markdown",
   "metadata": {},
   "source": [
    "最後に応用編として、SMILES記法で`while`を使って炭素原子数を数えることを考えてみます。"
   ]
  },
  {
   "cell_type": "code",
   "execution_count": 41,
   "metadata": {},
   "outputs": [
    {
     "name": "stdout",
     "output_type": "stream",
     "text": [
      "16\n"
     ]
    }
   ],
   "source": [
    "smiles_fa = 'OC(CCCCCCCCCCCCCCC)=O'\n",
    "\n",
    "Cn = 0\n",
    "\n",
    "while 'C' in smiles_fa:\n",
    "    if smiles_fa[0] == 'C':\n",
    "        Cn += 1\n",
    "    smiles_fa = smiles_fa[1:]\n",
    "print(Cn)"
   ]
  },
  {
   "cell_type": "markdown",
   "metadata": {},
   "source": [
    "SMILESの文字列に`C`という文字が含まれ、なおかつ一番左の文字が`C`の場合は、炭素原子数を数える変数`Cn`を1大きくします。\n",
    "一番左の文字は`C`であるかどうかに関わらず毎回消去します。\n",
    "こうすることで、SMILESの中の`C`の数を数えることができます。"
   ]
  },
  {
   "cell_type": "markdown",
   "metadata": {},
   "source": [
    "以上のように、`for`は繰り返し回数が決まっている場合に、`while`は繰り返し回数が決まっていない場合に使うことになります。"
   ]
  },
  {
   "cell_type": "markdown",
   "metadata": {},
   "source": [
    "## 4. 関数"
   ]
  },
  {
   "cell_type": "markdown",
   "metadata": {},
   "source": [
    "関数というのは、一連の処理をひとまとめにしたもので、`def 関数名（仮引数）:`と書くことで作成することができます。ちなみに、`def`は「define」の略です。\n",
    "一度関数を作成したら、あとは関数名を呼び出すだけで、関数内に記述されている処理を実行できます。\n",
    "戻り値（返り値）は、`return`を使って書くことができます。"
   ]
  },
  {
   "cell_type": "code",
   "execution_count": 42,
   "metadata": {},
   "outputs": [
    {
     "data": {
      "text/plain": [
       "'OC(CCCCCCCCCCCCCCC)=O'"
      ]
     },
     "execution_count": 42,
     "metadata": {},
     "output_type": "execute_result"
    }
   ],
   "source": [
    "def show_smiles_pa():\n",
    "    return 'OC(CCCCCCCCCCCCCCC)=O'\n",
    "\n",
    "\n",
    "show_smiles_pa() # OC(CCCCCCCCCCCCCCC)=O"
   ]
  },
  {
   "cell_type": "markdown",
   "metadata": {},
   "source": [
    "上の例では、SMILES記法で記述したパルミチン酸を戻り値とする関数になっています。\n",
    "関数を定義した後に、関数名`show_smiles_pa`を呼び出すと、戻り値が得られます。\n",
    "\n",
    "上の例では、関数作成時に仮引数がありませんが、仮引数をつけて関数を作成することも可能です。\n",
    "以下に例を示します。"
   ]
  },
  {
   "cell_type": "code",
   "execution_count": 43,
   "metadata": {},
   "outputs": [
    {
     "data": {
      "text/plain": [
       "'OC(CCCCCCCC(O)CCC(O)CCCCCC)=O'"
      ]
     },
     "execution_count": 43,
     "metadata": {},
     "output_type": "execute_result"
    }
   ],
   "source": [
    "def oxidize_fatty_acid(smiles):\n",
    "    \n",
    "    if smiles.count('=') <= 1:\n",
    "        return 'This fatty acid is not oxidized. '\n",
    "    else:\n",
    "        return smiles.replace('/C=C\\\\', 'C(O)C')\n",
    "\n",
    "\n",
    "smiles_pa = 'OC(CCCCCCCCCCCCCCC)=O'\n",
    "oxidize_fatty_acid(smiles_pa) # This fatty acid is not oxidized. \n",
    "\n",
    "smiles_la = 'OC(CCCCCCC/C=C\\C/C=C\\CCCCC)=O'\n",
    "oxidize_fatty_acid(smiles_la) # OC(CCCCCCCC(O)CCC(O)CCCCCC)=O"
   ]
  },
  {
   "cell_type": "markdown",
   "metadata": {},
   "source": [
    "上の例では、仮引数としてSMILES（文字列）を受け取り、飽和脂肪酸だった場合は、`This fatty acid is not oxidized. `が戻り値となり、不飽和脂肪酸だった場合は、炭素鎖の二重結合部分が酸化された化合物のSMILESが戻り値となります。\n",
    "\n",
    "仮引数を複数設定することも可能です。\n",
    "以下に例を示します。"
   ]
  },
  {
   "cell_type": "code",
   "execution_count": 44,
   "metadata": {},
   "outputs": [
    {
     "data": {
      "text/plain": [
       "280.24038"
      ]
     },
     "execution_count": 44,
     "metadata": {},
     "output_type": "execute_result"
    }
   ],
   "source": [
    "def calculate_exact_mass(Cn, Un):\n",
    "    return 12 * Cn + 1.00783 * (2 * Cn - 2 * Un) + 15.99491 * 2\n",
    "\n",
    "\n",
    "calculate_exact_mass(16, 0)\n",
    "\n",
    "calculate_exact_mass(18, 2)"
   ]
  },
  {
   "cell_type": "markdown",
   "metadata": {},
   "source": [
    "また、キーワード引数をとることもでき、`キーワード名 = 値`とします。\n",
    "以下に例を示します。"
   ]
  },
  {
   "cell_type": "code",
   "execution_count": 45,
   "metadata": {},
   "outputs": [
    {
     "data": {
      "text/plain": [
       "'16_0'"
      ]
     },
     "execution_count": 45,
     "metadata": {},
     "output_type": "execute_result"
    }
   ],
   "source": [
    "def abbreviate_fatty_acid(Cn, Un, sep=':'):\n",
    "    return str(Cn) + sep + str(Un)\n",
    "\n",
    "\n",
    "abbreviate_fatty_acid(16, 0) # 16:0\n",
    "\n",
    "abbreviate_fatty_acid(16, 0, sep='_') # 16_0"
   ]
  },
  {
   "cell_type": "markdown",
   "metadata": {},
   "source": [
    "上の例では、キーワード引数`sep`を関数呼び出し時に指定しなかった場合は、関数定義時のデフォルト値である`:`が使われ、関数呼び出し時に`sep`を指定した場合はその値に更新されます。"
   ]
  },
  {
   "cell_type": "markdown",
   "metadata": {},
   "source": [
    "関数を利用する時には、「変数のスコープ」に注意する必要があります。\n",
    "変数のスコープというのは、変数がどの範囲で使えるかということで、関数内だけでしか使えない場合（プライベート変数）もあれば、関数の外でも使える場合（グローバル変数）もあります。"
   ]
  },
  {
   "cell_type": "code",
   "execution_count": 46,
   "metadata": {},
   "outputs": [
    {
     "name": "stdout",
     "output_type": "stream",
     "text": [
      "16 0\n"
     ]
    }
   ],
   "source": [
    "def abbreviate_fatty_acid(a, b):\n",
    "    Cn = a\n",
    "    Un = b\n",
    "    return Cn, Un\n",
    "\n",
    "\n",
    "Cn = 16\n",
    "Un = 0\n",
    "\n",
    "abbreviate_fatty_acid(18, 2) # Cn = 18, Un = 2\n",
    "\n",
    "print(Cn, Un) # Cn = 16, Un = 0"
   ]
  },
  {
   "cell_type": "markdown",
   "metadata": {},
   "source": [
    "上の例では、関数`abbreviate_fatty_acid`内で出てくる変数`Cn`と`Un`はいずれもプライベート変数で、関数の外で定義されている`Cn`と`Un`とは別物です。\n",
    "なので、関数を呼び出しても、変数`Cn`と`Un`の値は更新されません。\n",
    "\n",
    "ここで、関数を呼び出すことで、変数`Cn`と`Un`の値も更新したい場合は、`global`を使って、関数内の`Cn`と`Un`がプライベート変数ではなくグローバル変数であることを示す必要があります。"
   ]
  },
  {
   "cell_type": "code",
   "execution_count": 47,
   "metadata": {},
   "outputs": [
    {
     "name": "stdout",
     "output_type": "stream",
     "text": [
      "18 2\n"
     ]
    }
   ],
   "source": [
    "def abbreviate_fatty_acid(a, b):\n",
    "    global Cn\n",
    "    global Un\n",
    "    Cn = a\n",
    "    Un = b\n",
    "    return Cn, Un\n",
    "\n",
    "\n",
    "Cn = 16\n",
    "Un = 0\n",
    "\n",
    "abbreviate_fatty_acid(18, 2) # Cn = 18, Un = 2\n",
    "\n",
    "print(Cn, Un) # Cn = 18, Un = 2"
   ]
  },
  {
   "cell_type": "markdown",
   "metadata": {},
   "source": [
    "上の例では、`Cn`と`Un`がグローバル変数として扱われているので、関数呼び出し時に`Cn`と`Un`の値も更新されます。"
   ]
  },
  {
   "cell_type": "markdown",
   "metadata": {},
   "source": [
    "## 5. クラス"
   ]
  },
  {
   "cell_type": "markdown",
   "metadata": {},
   "source": [
    "クラスは、変数や関数をひとまとめに持っているオブジェクトのようなイメージです。\n",
    "`class クラス名:`と書くことで作成することができます。\n",
    "また、クラスから生成するインスタンス全てに共通する初期設定を記述するための「初期化メソッド」というものがあり、`__init__`を使って記述します。"
   ]
  },
  {
   "cell_type": "code",
   "execution_count": 48,
   "metadata": {},
   "outputs": [
    {
     "name": "stdout",
     "output_type": "stream",
     "text": [
      "16\n",
      "0\n",
      "16:0\n",
      "256.24038\n",
      "The exact mass value of 16:0　is 256.24038.\n",
      "18\n",
      "2\n",
      "18:2\n",
      "280.24038\n",
      "The exact mass value of 18:2　is 280.24038.\n"
     ]
    }
   ],
   "source": [
    "class FattyAcid:\n",
    "    \n",
    "    def __init__(self, c, u):\n",
    "        self.Cn = c\n",
    "        self.Un = u\n",
    "        self.abbreviation = str(c) + ':' + str(u)\n",
    "        self.exact_mass = 12 * c + 1.00783 * (2 * c - 2 * u) + 15.99491 * 2\n",
    "        \n",
    "        \n",
    "    def describe(self):\n",
    "        return f'The exact mass value of {self.abbreviation}　is {self.exact_mass}.'\n",
    "\n",
    "\n",
    "palmitic_acid = FattyAcid(16, 0) # 「パルミチン酸」のインスタンスを生成\n",
    "linoleic_acid = FattyAcid(18, 2) # 「リノール酸」のインスタンスを生成\n",
    " \n",
    "print(palmitic_acid.Cn) # 16\n",
    "print(palmitic_acid.Un) # 0\n",
    "print(palmitic_acid.abbreviation) # 16:0\n",
    "print(palmitic_acid.exact_mass) # 256.24238\n",
    "print(palmitic_acid.describe()) # The exact mass value of 16:0　is 256.24238.\n",
    "\n",
    "print(linoleic_acid.Cn) # 18\n",
    "print(linoleic_acid.Un) # 2\n",
    "print(linoleic_acid.abbreviation) # 18:2\n",
    "print(linoleic_acid.exact_mass) # 280.24238\n",
    "print(linoleic_acid.describe()) # The exact mass value of 18:2　is 280.24238."
   ]
  },
  {
   "cell_type": "markdown",
   "metadata": {},
   "source": [
    "上の例では、`FattyAcid`（脂肪酸）という「クラス」を定義し、そこから`palmitic_acid`（パルミチン酸）と`linoleic_acid`（リノール酸）という「インスタンス」を生成しています。\n",
    "「クラス」はテンプレートのようなもので、「インスタンス」は具体例のようなもの、というイメージを持っておくと良いでしょう。\n",
    "初期化メソッドの中には、炭素原子数や二重結合数、精密質量などを設定しており、インスタンスが生成された時に自動的に計算されるようになっています。"
   ]
  },
  {
   "cell_type": "markdown",
   "metadata": {},
   "source": [
    "また、クラスには「継承」という概念があり、既存のクラスを「親クラス」として、親クラスに追加の機能を与えた「子クラス」を作ることができます。"
   ]
  },
  {
   "cell_type": "code",
   "execution_count": 49,
   "metadata": {},
   "outputs": [
    {
     "name": "stdout",
     "output_type": "stream",
     "text": [
      "16:0\n",
      "The exact mass value of 16:0　is 256.24038.\n",
      "16:0 cannot be oxidized. \n",
      "18:2\n",
      "The exact mass value of 18:2　is 280.24038.\n",
      "2 double bond(s) can be oxidized. \n"
     ]
    }
   ],
   "source": [
    "class FattyAcid:\n",
    "    \n",
    "    def __init__(self, c, u):\n",
    "        self.Cn = c\n",
    "        self.Un = u\n",
    "        self.abbreviation = str(c) + ':' + str(u)\n",
    "        self.exact_mass = 12 * c + 1.00783 * (2 * c - 2 * u) + 15.99491 * 2\n",
    "        \n",
    "        \n",
    "    def describe(self):\n",
    "        return f'The exact mass value of {self.abbreviation}　is {self.exact_mass}.'\n",
    "        \n",
    "        \n",
    "class SaturatedFattyAcid(FattyAcid):\n",
    "    \n",
    "    def oxidize(self):\n",
    "        return f'{self.abbreviation} cannot be oxidized. ' \n",
    "    \n",
    "    \n",
    "class UnsaturatedFattyAcid(FattyAcid):\n",
    "    \n",
    "    def oxidize(self):\n",
    "        return f'{self.Un} double bond(s) can be oxidized. '\n",
    "    \n",
    "\n",
    "palmitic_acid = SaturatedFattyAcid(16, 0)\n",
    "linoleic_acid = UnsaturatedFattyAcid(18, 2)\n",
    "\n",
    "print(palmitic_acid.abbreviation)\n",
    "print(palmitic_acid.describe())\n",
    "print(palmitic_acid.oxidize())\n",
    "\n",
    "print(linoleic_acid.abbreviation)\n",
    "print(linoleic_acid.describe())\n",
    "print(linoleic_acid.oxidize())"
   ]
  },
  {
   "cell_type": "markdown",
   "metadata": {},
   "source": [
    "上の例では、`FattyAcid`（脂肪酸）という親クラスから、`SaturatedFattyAcid`（飽和脂肪酸）と`UnsaturatedFattyAcid`（不飽和脂肪酸）という子クラスを生成しています。\n",
    "飽和脂肪酸は二重結合部分の酸化は受けませんが、不飽和脂肪酸は二重結合部分が酸化されるので、その違いを`oxidize`というメソッドで表現しています。\n",
    "また、飽和脂肪酸か不飽和脂肪酸かに関わらず、`exact_mass`などは計算できるので、これらは親クラスである`FattyAcid`の初期化メソッドで設定しています。"
   ]
  },
  {
   "cell_type": "markdown",
   "metadata": {},
   "source": [
    "## 6. 標準ライブラリ"
   ]
  },
  {
   "cell_type": "markdown",
   "metadata": {},
   "source": [
    "## 7. NumPy"
   ]
  },
  {
   "cell_type": "markdown",
   "metadata": {},
   "source": [
    "NumPyは、ベクトルや行列計算を高速で行うためのライブラリです。"
   ]
  },
  {
   "cell_type": "markdown",
   "metadata": {},
   "source": [
    "まず、`import ライブラリ名`でライブラリを読み込むことができます。\n",
    "さらに、`as 略号`をつけることで、以降はここで書いた略号でライブラリを呼び出す（指し示す）ことができます。\n",
    "NumPyの場合は、慣習的に`np`とすることが多いです。"
   ]
  },
  {
   "cell_type": "code",
   "execution_count": 50,
   "metadata": {},
   "outputs": [],
   "source": [
    "import numpy as np"
   ]
  },
  {
   "cell_type": "code",
   "execution_count": 51,
   "metadata": {},
   "outputs": [
    {
     "name": "stdout",
     "output_type": "stream",
     "text": [
      "[192.       32.25056  31.98982]\n",
      "256.24038\n"
     ]
    }
   ],
   "source": [
    "masses = np.array([12, 1.00783, 15.99491]) # 炭素、水素、酸素原子の精密質量を格納したndarray\n",
    "numbers = np.array([16, 32, 2]) # パルミチン酸の炭素、水素、酸素原子の数\n",
    "\n",
    "print(masses * numbers) # 元素ごとに精密質量を計算\n",
    "print(sum((masses * numbers))) # パルミチン酸の精密質量"
   ]
  },
  {
   "cell_type": "markdown",
   "metadata": {},
   "source": [
    "上のように、`np.array(リスト)`とすることで、複数の要素を持つベクトルを作成することができます。\n",
    "四則演算をすると、要素ごとに演算が行われます。\n",
    "また、`sum`を使うことで、全ての要素の合計値を求めることができます。"
   ]
  },
  {
   "cell_type": "markdown",
   "metadata": {},
   "source": [
    "`np.array(リスト)`で作成されるベクトルは、リストによく似ていますが、データ型は`list`ではなく、`numpy.ndarray`になります。\n",
    "`numpy.ndarray`どうしを掛け算すると、各要素を掛けた`numpy.ndarray`が返されますが、`list`どうしを掛け算すると、`TypeError`となり演算ができません。"
   ]
  },
  {
   "cell_type": "code",
   "execution_count": 52,
   "metadata": {},
   "outputs": [
    {
     "name": "stdout",
     "output_type": "stream",
     "text": [
      "<class 'numpy.ndarray'>\n",
      "<class 'list'>\n",
      "[12.0, 1.00783, 15.99491]\n"
     ]
    }
   ],
   "source": [
    "masses_ndarray = np.array([12, 1.00783, 15.99491])\n",
    "print(type(masses_ndarray)) # numpy.ndarray\n",
    "\n",
    "masses_list = [12, 1.00783, 15.99491]\n",
    "print(type(masses_list)) # list\n",
    "\n",
    "print(list(masses_ndarray)) # [12, 1.00783, 15.99491]\n",
    "\n",
    "numbers_list = [16, 32, 2]\n",
    "# print(masses_list * numbers_list) # TypeError"
   ]
  },
  {
   "cell_type": "markdown",
   "metadata": {},
   "source": [
    "次に、原子およびその同位体の精密質量と天然同位体存在比をもとに、原子量を求めることを考えます。"
   ]
  },
  {
   "cell_type": "code",
   "execution_count": 53,
   "metadata": {},
   "outputs": [
    {
     "name": "stdout",
     "output_type": "stream",
     "text": [
      "1.0079406897\n"
     ]
    }
   ],
   "source": [
    "exact_mass_H = np.array([1.00783, 2.01410]) # 同位体の精密質量\n",
    "isotope_ratio_H = np.array([0.99989, 0.00011]) # 同位体の天然存在比\n",
    "\n",
    "molecular_weight_H = sum(exact_mass_H * isotope_ratio_H) # 原子量を計算\n",
    "print(molecular_weight_H) # 水素の原子量"
   ]
  },
  {
   "cell_type": "markdown",
   "metadata": {},
   "source": [
    "最後に、複数の脂肪酸分子種の精密質量を求めてみます。"
   ]
  },
  {
   "cell_type": "code",
   "execution_count": 54,
   "metadata": {},
   "outputs": [
    {
     "name": "stdout",
     "output_type": "stream",
     "text": [
      "[[192.       32.25056  31.98982]\n",
      " [216.       36.28188  31.98982]\n",
      " [216.       34.26622  31.98982]]\n",
      "[256.24038 284.2717  282.25604]\n"
     ]
    }
   ],
   "source": [
    "numbers = np.array([[16, 32, 2], [18, 36, 2], [18, 34, 2]]) # パルミチン酸、ステアリン酸、オレイン酸の元素組成\n",
    "\n",
    "print(masses * numbers) # 各分子種の各元素の精密質量を計算\n",
    "print(np.sum(masses * numbers, axis=1)) # 各分子種の精密質量を計算"
   ]
  },
  {
   "cell_type": "markdown",
   "metadata": {},
   "source": [
    "## 8. pandas"
   ]
  },
  {
   "cell_type": "markdown",
   "metadata": {},
   "source": [
    "pandasは、表計算を簡単に行えるライブラリです。"
   ]
  },
  {
   "cell_type": "markdown",
   "metadata": {},
   "source": [
    "まずは、`import`でライブラリを読み込みます。\n",
    "慣習的に、`pd`と略すことが多いです。"
   ]
  },
  {
   "cell_type": "code",
   "execution_count": 55,
   "metadata": {},
   "outputs": [],
   "source": [
    "import pandas as pd"
   ]
  },
  {
   "cell_type": "markdown",
   "metadata": {},
   "source": [
    "Pandasでは、「Series」と「DataFrame」の2種類のデータ構造を扱います。\n",
    "Seriesは1次元のデータで、リストや辞書に似たデータ構造になります。"
   ]
  },
  {
   "cell_type": "code",
   "execution_count": 56,
   "metadata": {},
   "outputs": [
    {
     "name": "stdout",
     "output_type": "stream",
     "text": [
      "FA 16:0    16\n",
      "FA 16:1    16\n",
      "FA 18:0    18\n",
      "FA 18:1    18\n",
      "FA 18:2    18\n",
      "FA 18:3    18\n",
      "FA 18:4    18\n",
      "FA 20:0    20\n",
      "FA 20:3    20\n",
      "FA 20:4    20\n",
      "FA 20:5    20\n",
      "dtype: int64\n",
      "FA 16:0    0\n",
      "FA 16:1    1\n",
      "FA 18:0    0\n",
      "FA 18:1    1\n",
      "FA 18:2    2\n",
      "FA 18:3    3\n",
      "FA 18:4    4\n",
      "FA 20:0    0\n",
      "FA 20:3    3\n",
      "FA 20:4    4\n",
      "FA 20:5    5\n",
      "dtype: int64\n"
     ]
    }
   ],
   "source": [
    "index_fatty_acids = ['FA 16:0', 'FA 16:1', 'FA 18:0', 'FA 18:1', 'FA 18:2', 'FA 18:3', 'FA 18:4', 'FA 20:0', 'FA 20:3', 'FA 20:4', 'FA 20:5']\n",
    "\n",
    "numbers_carbon = pd.Series([16, 16, 18, 18, 18, 18, 18, 20, 20, 20, 20], index=index_fatty_acids)\n",
    "numbers_unsaturation = pd.Series([0, 1, 0, 1, 2, 3, 4, 0, 3, 4, 5], index=index_fatty_acids)\n",
    "\n",
    "print(numbers_carbon)\n",
    "print(numbers_unsaturation)"
   ]
  },
  {
   "cell_type": "markdown",
   "metadata": {},
   "source": [
    "上の例で、`index_fatty_acids`は、データの名称のようなものだと思ってもらえればいいと思います。\n",
    "下のように、辞書をもとにSeriesを作ることもできます。`index_fatty_acids`を辞書のキーとします。\n",
    "ただ、コードが長くなってしまうので、`index=`でリストを指定する方が良いでしょう。"
   ]
  },
  {
   "cell_type": "code",
   "execution_count": 57,
   "metadata": {},
   "outputs": [
    {
     "name": "stdout",
     "output_type": "stream",
     "text": [
      "FA 16:0    16\n",
      "FA 16:1    16\n",
      "FA 18:0    18\n",
      "FA 18:1    18\n",
      "FA 18:2    18\n",
      "FA 18:3    18\n",
      "FA 18:4    18\n",
      "FA 20:0    20\n",
      "FA 20:3    20\n",
      "FA 20:4    20\n",
      "FA 20:5    20\n",
      "dtype: int64\n"
     ]
    }
   ],
   "source": [
    "numbers_carbon = pd.Series({\n",
    "    'FA 16:0': 16,\n",
    "    'FA 16:1': 16,\n",
    "    'FA 18:0': 18,\n",
    "    'FA 18:1': 18,\n",
    "    'FA 18:2': 18,\n",
    "    'FA 18:3': 18,\n",
    "    'FA 18:4': 18,\n",
    "    'FA 20:0': 20,\n",
    "    'FA 20:3': 20,\n",
    "    'FA 20:4': 20,\n",
    "    'FA 20:5': 20\n",
    "})\n",
    "\n",
    "print(numbers_carbon)"
   ]
  },
  {
   "cell_type": "markdown",
   "metadata": {},
   "source": [
    "一方、DataFrameは、Seriesを結合して作られる2次元のデータになります。"
   ]
  },
  {
   "cell_type": "code",
   "execution_count": 58,
   "metadata": {},
   "outputs": [
    {
     "name": "stdout",
     "output_type": "stream",
     "text": [
      "         Cn  Un\n",
      "FA 16:0  16   0\n",
      "FA 16:1  16   1\n",
      "FA 18:0  18   0\n",
      "FA 18:1  18   1\n",
      "FA 18:2  18   2\n",
      "FA 18:3  18   3\n",
      "FA 18:4  18   4\n",
      "FA 20:0  20   0\n",
      "FA 20:3  20   3\n",
      "FA 20:4  20   4\n",
      "FA 20:5  20   5\n"
     ]
    }
   ],
   "source": [
    "df_fatty_acids = pd.DataFrame({'Cn': numbers_carbon, 'Un': numbers_unsaturation})\n",
    "\n",
    "print(df_fatty_acids)"
   ]
  },
  {
   "cell_type": "markdown",
   "metadata": {},
   "source": [
    "上の例で、`pd.DataFrame`の中にある辞書のキーは、表の列名にあたります。\n",
    "一方、先ほどSeriesを作成した時に指定した`index`は、行名になります。\n",
    "ちなみに、`df_fatty_acids`の`df`は、　「dataframe」の略です。"
   ]
  },
  {
   "cell_type": "markdown",
   "metadata": {},
   "source": [
    "DataFrameの行名と列名を参照するには、それぞれ`index`と`columns`を用います。"
   ]
  },
  {
   "cell_type": "code",
   "execution_count": 59,
   "metadata": {},
   "outputs": [
    {
     "name": "stdout",
     "output_type": "stream",
     "text": [
      "Index(['FA 16:0', 'FA 16:1', 'FA 18:0', 'FA 18:1', 'FA 18:2', 'FA 18:3',\n",
      "       'FA 18:4', 'FA 20:0', 'FA 20:3', 'FA 20:4', 'FA 20:5'],\n",
      "      dtype='object')\n",
      "Index(['Cn', 'Un'], dtype='object')\n"
     ]
    }
   ],
   "source": [
    "print(df_fatty_acids.index) # 行名\n",
    "print(df_fatty_acids.columns) # 列名"
   ]
  },
  {
   "cell_type": "markdown",
   "metadata": {},
   "source": [
    "DataFrameの特定の要素にアクセスするには、以下のように書きます。"
   ]
  },
  {
   "cell_type": "code",
   "execution_count": 60,
   "metadata": {},
   "outputs": [
    {
     "name": "stdout",
     "output_type": "stream",
     "text": [
      "FA 16:0    16\n",
      "FA 16:1    16\n",
      "FA 18:0    18\n",
      "FA 18:1    18\n",
      "FA 18:2    18\n",
      "FA 18:3    18\n",
      "FA 18:4    18\n",
      "FA 20:0    20\n",
      "FA 20:3    20\n",
      "FA 20:4    20\n",
      "FA 20:5    20\n",
      "Name: Cn, dtype: int64\n",
      "FA 16:0    16\n",
      "FA 16:1    16\n",
      "FA 18:0    18\n",
      "FA 18:1    18\n",
      "FA 18:2    18\n",
      "FA 18:3    18\n",
      "FA 18:4    18\n",
      "FA 20:0    20\n",
      "FA 20:3    20\n",
      "FA 20:4    20\n",
      "FA 20:5    20\n",
      "Name: Cn, dtype: int64\n"
     ]
    }
   ],
   "source": [
    "print(df_fatty_acids['Cn']) # 列名を指定\n",
    "print(df_fatty_acids.Cn) # 列名を指定"
   ]
  },
  {
   "cell_type": "code",
   "execution_count": 61,
   "metadata": {},
   "outputs": [
    {
     "name": "stdout",
     "output_type": "stream",
     "text": [
      "16\n"
     ]
    }
   ],
   "source": [
    "print(df_fatty_acids['Cn'][0]) # 列名を指定し、行番号を指定"
   ]
  },
  {
   "cell_type": "code",
   "execution_count": 62,
   "metadata": {},
   "outputs": [
    {
     "name": "stdout",
     "output_type": "stream",
     "text": [
      "         Cn  Un\n",
      "FA 18:0  18   0\n",
      "FA 18:1  18   1\n",
      "FA 18:2  18   2\n",
      "         Cn  Un\n",
      "FA 18:3  18   3\n",
      "FA 18:4  18   4\n",
      "FA 20:0  20   0\n",
      "FA 20:3  20   3\n",
      "FA 20:4  20   4\n",
      "FA 20:5  20   5\n",
      "         Cn  Un\n",
      "FA 16:0  16   0\n",
      "FA 16:1  16   1\n",
      "FA 18:0  18   0\n",
      "FA 18:1  18   1\n",
      "FA 18:2  18   2\n",
      "         Cn  Un\n",
      "FA 18:4  18   4\n",
      "FA 20:0  20   0\n",
      "FA 20:3  20   3\n",
      "FA 20:4  20   4\n",
      "FA 20:5  20   5\n",
      "FA 18:0    18\n",
      "FA 18:1    18\n",
      "FA 18:2    18\n",
      "Name: Cn, dtype: int64\n"
     ]
    }
   ],
   "source": [
    "print(df_fatty_acids[2:5]) # 行番号（インデックス番号）をスライスで指定\n",
    "print(df_fatty_acids[5:]) # 指定した行番号以降のデータを抽出\n",
    "print(df_fatty_acids[:5]) # 指定した行番号までのデータを抽出\n",
    "print(df_fatty_acids[-5:]) # 後ろから数えた行番号\n",
    "print(df_fatty_acids[2:5]['Cn']) # 行番号と列名を指定"
   ]
  },
  {
   "cell_type": "code",
   "execution_count": 63,
   "metadata": {},
   "outputs": [
    {
     "name": "stdout",
     "output_type": "stream",
     "text": [
      "16\n",
      "Cn    16\n",
      "Un     0\n",
      "Name: FA 16:0, dtype: int64\n",
      "FA 16:0    16\n",
      "FA 16:1    16\n",
      "FA 18:0    18\n",
      "FA 18:1    18\n",
      "FA 18:2    18\n",
      "FA 18:3    18\n",
      "FA 18:4    18\n",
      "FA 20:0    20\n",
      "FA 20:3    20\n",
      "FA 20:4    20\n",
      "FA 20:5    20\n",
      "Name: Cn, dtype: int64\n"
     ]
    }
   ],
   "source": [
    "print(df_fatty_acids.loc['FA 16:0', 'Cn']) # 行名と列名を指定\n",
    "print(df_fatty_acids.loc['FA 16:0']) # 行名を指定\n",
    "print(df_fatty_acids.loc[:, 'Cn']) # 列名を指定"
   ]
  },
  {
   "cell_type": "code",
   "execution_count": 64,
   "metadata": {},
   "outputs": [
    {
     "name": "stdout",
     "output_type": "stream",
     "text": [
      "16\n",
      "Cn    16\n",
      "Un     0\n",
      "Name: FA 16:0, dtype: int64\n",
      "FA 16:0    16\n",
      "FA 16:1    16\n",
      "FA 18:0    18\n",
      "FA 18:1    18\n",
      "FA 18:2    18\n",
      "FA 18:3    18\n",
      "FA 18:4    18\n",
      "FA 20:0    20\n",
      "FA 20:3    20\n",
      "FA 20:4    20\n",
      "FA 20:5    20\n",
      "Name: Cn, dtype: int64\n",
      "5\n"
     ]
    }
   ],
   "source": [
    "print(df_fatty_acids.iloc[0, 0]) # 行番号と列番号を指定\n",
    "print(df_fatty_acids.iloc[0]) # 行番号を指定\n",
    "print(df_fatty_acids.iloc[:, 0]) # 列番号を指定\n",
    "print(df_fatty_acids.iloc[-1, -1]) # 最後の行の最後の列の要素"
   ]
  },
  {
   "cell_type": "markdown",
   "metadata": {},
   "source": [
    "行名や列名を指定するのが良いのか、行番号や列番号を指定するのか良いのかは、ケースバイケースなので、その都度やりやすい方を選ぶのが良いでしょう。"
   ]
  },
  {
   "cell_type": "markdown",
   "metadata": {},
   "source": [
    "また、指定した条件を満たすデータを抽出することもできます。"
   ]
  },
  {
   "cell_type": "code",
   "execution_count": 65,
   "metadata": {},
   "outputs": [
    {
     "name": "stdout",
     "output_type": "stream",
     "text": [
      "         Cn  Un\n",
      "FA 18:0  18   0\n",
      "FA 18:1  18   1\n",
      "FA 18:2  18   2\n",
      "FA 18:3  18   3\n",
      "FA 18:4  18   4\n",
      "FA 20:0  20   0\n",
      "FA 20:3  20   3\n",
      "FA 20:4  20   4\n",
      "FA 20:5  20   5\n",
      "FA 18:0    18\n",
      "FA 18:1    18\n",
      "FA 18:2    18\n",
      "FA 18:3    18\n",
      "FA 18:4    18\n",
      "FA 20:0    20\n",
      "FA 20:3    20\n",
      "FA 20:4    20\n",
      "FA 20:5    20\n",
      "Name: Cn, dtype: int64\n",
      "FA 18:0    18\n",
      "FA 18:1    18\n",
      "FA 18:2    18\n",
      "FA 18:3    18\n",
      "FA 18:4    18\n",
      "FA 20:0    20\n",
      "FA 20:3    20\n",
      "FA 20:4    20\n",
      "FA 20:5    20\n",
      "Name: Cn, dtype: int64\n"
     ]
    }
   ],
   "source": [
    "print(df_fatty_acids[df_fatty_acids['Cn'] >= 18]) # 条件を満たす行を抽出したDataFrame\n",
    "print(df_fatty_acids[df_fatty_acids['Cn'] >= 18]['Cn']) # 条件を満たす行を抽出したDataFrameで列名を指定して抽出\n",
    "print(df_fatty_acids[df_fatty_acids['Cn'] >= 18].iloc[:, 0]) # 条件を満たす行を抽出したDataFrameで列番号を指定して抽出"
   ]
  },
  {
   "cell_type": "code",
   "execution_count": 66,
   "metadata": {},
   "outputs": [
    {
     "name": "stdout",
     "output_type": "stream",
     "text": [
      "         Cn  Un\n",
      "FA 18:2  18   2\n",
      "FA 18:3  18   3\n",
      "FA 18:4  18   4\n",
      "FA 20:3  20   3\n",
      "FA 20:4  20   4\n",
      "FA 20:5  20   5\n",
      "         Cn  Un\n",
      "FA 16:1  16   1\n",
      "FA 18:0  18   0\n",
      "FA 18:1  18   1\n",
      "FA 18:2  18   2\n",
      "FA 18:3  18   3\n",
      "FA 18:4  18   4\n",
      "FA 20:0  20   0\n",
      "FA 20:3  20   3\n",
      "FA 20:4  20   4\n",
      "FA 20:5  20   5\n"
     ]
    }
   ],
   "source": [
    "print(df_fatty_acids[(df_fatty_acids['Cn'] >= 18) & (df_fatty_acids['Un'] >= 2)]) # 複数の条件を指定（and）\n",
    "print(df_fatty_acids[(df_fatty_acids['Cn'] >= 18) | (df_fatty_acids['Un'] >= 1)]) # 複数の条件を指定（or）"
   ]
  },
  {
   "cell_type": "markdown",
   "metadata": {},
   "source": [
    "複数の条件を指定する時は、条件ごとにかっこ`()`が必要です。忘れないようにしましょう。"
   ]
  },
  {
   "cell_type": "markdown",
   "metadata": {},
   "source": [
    "`DataFrame名['列名']`で、特定の列を指定できますが、DataFrameにない列名を指定した場合、新たに列が作成されます。\n",
    "また、別の列のデータをもとに、計算することも簡単にできます。"
   ]
  },
  {
   "cell_type": "code",
   "execution_count": 67,
   "metadata": {},
   "outputs": [
    {
     "name": "stdout",
     "output_type": "stream",
     "text": [
      "         Cn  Un   C   H  O\n",
      "FA 16:0  16   0  16  32  2\n",
      "FA 16:1  16   1  16  30  2\n",
      "FA 18:0  18   0  18  36  2\n",
      "FA 18:1  18   1  18  34  2\n",
      "FA 18:2  18   2  18  32  2\n",
      "FA 18:3  18   3  18  30  2\n",
      "FA 18:4  18   4  18  28  2\n",
      "FA 20:0  20   0  20  40  2\n",
      "FA 20:3  20   3  20  34  2\n",
      "FA 20:4  20   4  20  32  2\n",
      "FA 20:5  20   5  20  30  2\n"
     ]
    }
   ],
   "source": [
    "df_fatty_acids['C'] = df_fatty_acids['Cn']\n",
    "df_fatty_acids['H'] = df_fatty_acids['Cn'] * 2 - df_fatty_acids['Un'] * 2\n",
    "df_fatty_acids['O'] = 2\n",
    "\n",
    "print(df_fatty_acids)"
   ]
  },
  {
   "cell_type": "markdown",
   "metadata": {},
   "source": [
    "上の例では、`Cn`と`Un`の列の値をもとに、各脂肪酸分子種の炭素原子数`C`と水素原子数`H`を計算しています。\n",
    "`df_fatty_acids`を出力すると、新たに`C`と`H`と`O`の列が追加されていることが分かります。"
   ]
  },
  {
   "cell_type": "markdown",
   "metadata": {},
   "source": [
    "次に、各脂肪酸分子種の精密質量を求めることを考えてみます。"
   ]
  },
  {
   "cell_type": "code",
   "execution_count": 68,
   "metadata": {},
   "outputs": [
    {
     "name": "stdout",
     "output_type": "stream",
     "text": [
      "         Cn  Un   C   H  O  Exact mass\n",
      "FA 16:0  16   0  16  32  2       192.0\n",
      "FA 16:1  16   1  16  30  2       192.0\n",
      "FA 18:0  18   0  18  36  2       216.0\n",
      "FA 18:1  18   1  18  34  2       216.0\n",
      "FA 18:2  18   2  18  32  2       216.0\n",
      "FA 18:3  18   3  18  30  2       216.0\n",
      "FA 18:4  18   4  18  28  2       216.0\n",
      "FA 20:0  20   0  20  40  2       240.0\n",
      "FA 20:3  20   3  20  34  2       240.0\n",
      "FA 20:4  20   4  20  32  2       240.0\n",
      "FA 20:5  20   5  20  30  2       240.0\n"
     ]
    }
   ],
   "source": [
    "exact_masses = pd.Series({'C': 12, 'H': 1.00783, 'O': 15.99491})\n",
    "\n",
    "df_fatty_acids['Exact mass'] = 0 # とりあえず全ての行に0を入れておく\n",
    "\n",
    "df_fatty_acids['Exact mass'] = exact_masses * df_fatty_acids # 精密質量を計算\n",
    "\n",
    "print(df_fatty_acids)"
   ]
  },
  {
   "cell_type": "markdown",
   "metadata": {},
   "source": [
    "上の例では、各原子の精密質量に原子数をかけたものを足し合わせることで脂肪酸分子の精密質量を求めています。"
   ]
  },
  {
   "cell_type": "markdown",
   "metadata": {},
   "source": [
    "次に、組成式を求めてみます。"
   ]
  },
  {
   "cell_type": "code",
   "execution_count": 69,
   "metadata": {},
   "outputs": [
    {
     "name": "stdout",
     "output_type": "stream",
     "text": [
      "         Cn  Un   C   H  O  Exact mass Molecular formula\n",
      "FA 16:0  16   0  16  32  2       192.0          C16H32O2\n",
      "FA 16:1  16   1  16  30  2       192.0          C16H30O2\n",
      "FA 18:0  18   0  18  36  2       216.0          C18H36O2\n",
      "FA 18:1  18   1  18  34  2       216.0          C18H34O2\n",
      "FA 18:2  18   2  18  32  2       216.0          C18H32O2\n",
      "FA 18:3  18   3  18  30  2       216.0          C18H30O2\n",
      "FA 18:4  18   4  18  28  2       216.0          C18H28O2\n",
      "FA 20:0  20   0  20  40  2       240.0          C20H40O2\n",
      "FA 20:3  20   3  20  34  2       240.0          C20H34O2\n",
      "FA 20:4  20   4  20  32  2       240.0          C20H32O2\n",
      "FA 20:5  20   5  20  30  2       240.0          C20H30O2\n"
     ]
    }
   ],
   "source": [
    "df_fatty_acids['Molecular formula'] = pd.Series([''] * len(index_fatty_acids), index=index_fatty_acids) # とりあえず全ての行に空文字を入れておく\n",
    "\n",
    "for atom in exact_masses.index:\n",
    "    df_fatty_acids['Molecular formula'] += atom + df_fatty_acids[atom].astype(str) # 組成式をかく\n",
    "    \n",
    "print(df_fatty_acids)"
   ]
  },
  {
   "cell_type": "markdown",
   "metadata": {},
   "source": [
    "元素記号と原子数を文字列として結合させれば良いわけですが、`C`、`H`、`O`に入っているデータは数値のため、結合する前に文字列に変換する必要があります。\n",
    "そこで、上の例では`astype(str)`として、数値を文字列に変換した上で結合しているわけです。"
   ]
  },
  {
   "cell_type": "markdown",
   "metadata": {},
   "source": [
    "次は出来上がったデータを外部ファイルとして出力することを考えます。"
   ]
  },
  {
   "cell_type": "code",
   "execution_count": 70,
   "metadata": {},
   "outputs": [],
   "source": [
    "df_fatty_acids.to_csv('fatty_acids.csv') # CSVファイルとして出力\n",
    "df_fatty_acids.to_csv('fatty_acids.txt', sep='\\t') # タブ区切りテキストファイルとして出力\n",
    "df_fatty_acids.to_excel('fatty_acids.xlsx', sheet_name='fatty_acids') # エクセルファイルとして出力"
   ]
  },
  {
   "cell_type": "markdown",
   "metadata": {},
   "source": [
    "逆に、外部ファイルを読み込むには、以下のようにします。"
   ]
  },
  {
   "cell_type": "code",
   "execution_count": 71,
   "metadata": {},
   "outputs": [],
   "source": [
    "df_csv = pd.read_csv('fatty_acids.csv', index_col=0) #CSVファイルを読み込み\n",
    "df_text = pd.read_csv('fatty_acids.txt', sep='\\t', index_col=0) # タブ区切りテキストファイルを読み込み\n",
    "df_excel = pd.read_excel('fatty_acids.xlsx', index_col=0) # エクセルファイルを読み込み"
   ]
  },
  {
   "cell_type": "code",
   "execution_count": 72,
   "metadata": {},
   "outputs": [
    {
     "name": "stdout",
     "output_type": "stream",
     "text": [
      "         Cn  Un   C   H  O  Exact mass Molecular formula\n",
      "FA 16:0  16   0  16  32  2       192.0          C16H32O2\n",
      "FA 16:1  16   1  16  30  2       192.0          C16H30O2\n",
      "FA 18:0  18   0  18  36  2       216.0          C18H36O2\n",
      "FA 18:1  18   1  18  34  2       216.0          C18H34O2\n",
      "FA 18:2  18   2  18  32  2       216.0          C18H32O2\n",
      "FA 18:3  18   3  18  30  2       216.0          C18H30O2\n",
      "FA 18:4  18   4  18  28  2       216.0          C18H28O2\n",
      "FA 20:0  20   0  20  40  2       240.0          C20H40O2\n",
      "FA 20:3  20   3  20  34  2       240.0          C20H34O2\n",
      "FA 20:4  20   4  20  32  2       240.0          C20H32O2\n",
      "FA 20:5  20   5  20  30  2       240.0          C20H30O2\n"
     ]
    }
   ],
   "source": [
    "print(df_csv)"
   ]
  },
  {
   "cell_type": "code",
   "execution_count": 73,
   "metadata": {},
   "outputs": [
    {
     "name": "stdout",
     "output_type": "stream",
     "text": [
      "         Cn  Un   C   H  O  Exact mass Molecular formula\n",
      "FA 16:0  16   0  16  32  2       192.0          C16H32O2\n",
      "FA 16:1  16   1  16  30  2       192.0          C16H30O2\n",
      "FA 18:0  18   0  18  36  2       216.0          C18H36O2\n",
      "FA 18:1  18   1  18  34  2       216.0          C18H34O2\n",
      "FA 18:2  18   2  18  32  2       216.0          C18H32O2\n",
      "FA 18:3  18   3  18  30  2       216.0          C18H30O2\n",
      "FA 18:4  18   4  18  28  2       216.0          C18H28O2\n",
      "FA 20:0  20   0  20  40  2       240.0          C20H40O2\n",
      "FA 20:3  20   3  20  34  2       240.0          C20H34O2\n",
      "FA 20:4  20   4  20  32  2       240.0          C20H32O2\n",
      "FA 20:5  20   5  20  30  2       240.0          C20H30O2\n"
     ]
    }
   ],
   "source": [
    "print(df_text)"
   ]
  },
  {
   "cell_type": "code",
   "execution_count": 74,
   "metadata": {},
   "outputs": [
    {
     "name": "stdout",
     "output_type": "stream",
     "text": [
      "         Cn  Un   C   H  O  Exact mass Molecular formula\n",
      "FA 16:0  16   0  16  32  2         192          C16H32O2\n",
      "FA 16:1  16   1  16  30  2         192          C16H30O2\n",
      "FA 18:0  18   0  18  36  2         216          C18H36O2\n",
      "FA 18:1  18   1  18  34  2         216          C18H34O2\n",
      "FA 18:2  18   2  18  32  2         216          C18H32O2\n",
      "FA 18:3  18   3  18  30  2         216          C18H30O2\n",
      "FA 18:4  18   4  18  28  2         216          C18H28O2\n",
      "FA 20:0  20   0  20  40  2         240          C20H40O2\n",
      "FA 20:3  20   3  20  34  2         240          C20H34O2\n",
      "FA 20:4  20   4  20  32  2         240          C20H32O2\n",
      "FA 20:5  20   5  20  30  2         240          C20H30O2\n"
     ]
    }
   ],
   "source": [
    "print(df_excel)"
   ]
  },
  {
   "cell_type": "code",
   "execution_count": 75,
   "metadata": {},
   "outputs": [
    {
     "data": {
      "text/html": [
       "<div>\n",
       "<style scoped>\n",
       "    .dataframe tbody tr th:only-of-type {\n",
       "        vertical-align: middle;\n",
       "    }\n",
       "\n",
       "    .dataframe tbody tr th {\n",
       "        vertical-align: top;\n",
       "    }\n",
       "\n",
       "    .dataframe thead th {\n",
       "        text-align: right;\n",
       "    }\n",
       "</style>\n",
       "<table border=\"1\" class=\"dataframe\">\n",
       "  <thead>\n",
       "    <tr style=\"text-align: right;\">\n",
       "      <th></th>\n",
       "      <th>Cn</th>\n",
       "      <th>Un</th>\n",
       "      <th>C</th>\n",
       "      <th>H</th>\n",
       "      <th>O</th>\n",
       "      <th>Exact mass</th>\n",
       "      <th>Molecular formula</th>\n",
       "    </tr>\n",
       "  </thead>\n",
       "  <tbody>\n",
       "    <tr>\n",
       "      <th>FA 16:0</th>\n",
       "      <td>16</td>\n",
       "      <td>0</td>\n",
       "      <td>16</td>\n",
       "      <td>32</td>\n",
       "      <td>2</td>\n",
       "      <td>192.0</td>\n",
       "      <td>C16H32O2</td>\n",
       "    </tr>\n",
       "    <tr>\n",
       "      <th>FA 16:1</th>\n",
       "      <td>16</td>\n",
       "      <td>1</td>\n",
       "      <td>16</td>\n",
       "      <td>30</td>\n",
       "      <td>2</td>\n",
       "      <td>192.0</td>\n",
       "      <td>C16H30O2</td>\n",
       "    </tr>\n",
       "    <tr>\n",
       "      <th>FA 18:0</th>\n",
       "      <td>18</td>\n",
       "      <td>0</td>\n",
       "      <td>18</td>\n",
       "      <td>36</td>\n",
       "      <td>2</td>\n",
       "      <td>216.0</td>\n",
       "      <td>C18H36O2</td>\n",
       "    </tr>\n",
       "    <tr>\n",
       "      <th>FA 18:1</th>\n",
       "      <td>18</td>\n",
       "      <td>1</td>\n",
       "      <td>18</td>\n",
       "      <td>34</td>\n",
       "      <td>2</td>\n",
       "      <td>216.0</td>\n",
       "      <td>C18H34O2</td>\n",
       "    </tr>\n",
       "    <tr>\n",
       "      <th>FA 18:2</th>\n",
       "      <td>18</td>\n",
       "      <td>2</td>\n",
       "      <td>18</td>\n",
       "      <td>32</td>\n",
       "      <td>2</td>\n",
       "      <td>216.0</td>\n",
       "      <td>C18H32O2</td>\n",
       "    </tr>\n",
       "  </tbody>\n",
       "</table>\n",
       "</div>"
      ],
      "text/plain": [
       "         Cn  Un   C   H  O  Exact mass Molecular formula\n",
       "FA 16:0  16   0  16  32  2       192.0          C16H32O2\n",
       "FA 16:1  16   1  16  30  2       192.0          C16H30O2\n",
       "FA 18:0  18   0  18  36  2       216.0          C18H36O2\n",
       "FA 18:1  18   1  18  34  2       216.0          C18H34O2\n",
       "FA 18:2  18   2  18  32  2       216.0          C18H32O2"
      ]
     },
     "execution_count": 75,
     "metadata": {},
     "output_type": "execute_result"
    }
   ],
   "source": [
    "df_csv.head() # 最初の5行を表示"
   ]
  },
  {
   "cell_type": "code",
   "execution_count": 76,
   "metadata": {},
   "outputs": [
    {
     "data": {
      "text/html": [
       "<div>\n",
       "<style scoped>\n",
       "    .dataframe tbody tr th:only-of-type {\n",
       "        vertical-align: middle;\n",
       "    }\n",
       "\n",
       "    .dataframe tbody tr th {\n",
       "        vertical-align: top;\n",
       "    }\n",
       "\n",
       "    .dataframe thead th {\n",
       "        text-align: right;\n",
       "    }\n",
       "</style>\n",
       "<table border=\"1\" class=\"dataframe\">\n",
       "  <thead>\n",
       "    <tr style=\"text-align: right;\">\n",
       "      <th></th>\n",
       "      <th>Cn</th>\n",
       "      <th>Un</th>\n",
       "      <th>C</th>\n",
       "      <th>H</th>\n",
       "      <th>O</th>\n",
       "      <th>Exact mass</th>\n",
       "      <th>Molecular formula</th>\n",
       "    </tr>\n",
       "  </thead>\n",
       "  <tbody>\n",
       "    <tr>\n",
       "      <th>FA 16:0</th>\n",
       "      <td>16</td>\n",
       "      <td>0</td>\n",
       "      <td>16</td>\n",
       "      <td>32</td>\n",
       "      <td>2</td>\n",
       "      <td>192.0</td>\n",
       "      <td>C16H32O2</td>\n",
       "    </tr>\n",
       "    <tr>\n",
       "      <th>FA 16:1</th>\n",
       "      <td>16</td>\n",
       "      <td>1</td>\n",
       "      <td>16</td>\n",
       "      <td>30</td>\n",
       "      <td>2</td>\n",
       "      <td>192.0</td>\n",
       "      <td>C16H30O2</td>\n",
       "    </tr>\n",
       "    <tr>\n",
       "      <th>FA 18:0</th>\n",
       "      <td>18</td>\n",
       "      <td>0</td>\n",
       "      <td>18</td>\n",
       "      <td>36</td>\n",
       "      <td>2</td>\n",
       "      <td>216.0</td>\n",
       "      <td>C18H36O2</td>\n",
       "    </tr>\n",
       "  </tbody>\n",
       "</table>\n",
       "</div>"
      ],
      "text/plain": [
       "         Cn  Un   C   H  O  Exact mass Molecular formula\n",
       "FA 16:0  16   0  16  32  2       192.0          C16H32O2\n",
       "FA 16:1  16   1  16  30  2       192.0          C16H30O2\n",
       "FA 18:0  18   0  18  36  2       216.0          C18H36O2"
      ]
     },
     "execution_count": 76,
     "metadata": {},
     "output_type": "execute_result"
    }
   ],
   "source": [
    "df_csv.head(3) # 最初の3行を表示"
   ]
  },
  {
   "cell_type": "code",
   "execution_count": 77,
   "metadata": {},
   "outputs": [
    {
     "data": {
      "text/html": [
       "<div>\n",
       "<style scoped>\n",
       "    .dataframe tbody tr th:only-of-type {\n",
       "        vertical-align: middle;\n",
       "    }\n",
       "\n",
       "    .dataframe tbody tr th {\n",
       "        vertical-align: top;\n",
       "    }\n",
       "\n",
       "    .dataframe thead th {\n",
       "        text-align: right;\n",
       "    }\n",
       "</style>\n",
       "<table border=\"1\" class=\"dataframe\">\n",
       "  <thead>\n",
       "    <tr style=\"text-align: right;\">\n",
       "      <th></th>\n",
       "      <th>Cn</th>\n",
       "      <th>Un</th>\n",
       "      <th>C</th>\n",
       "      <th>H</th>\n",
       "      <th>O</th>\n",
       "      <th>Exact mass</th>\n",
       "      <th>Molecular formula</th>\n",
       "    </tr>\n",
       "  </thead>\n",
       "  <tbody>\n",
       "    <tr>\n",
       "      <th>FA 18:4</th>\n",
       "      <td>18</td>\n",
       "      <td>4</td>\n",
       "      <td>18</td>\n",
       "      <td>28</td>\n",
       "      <td>2</td>\n",
       "      <td>216.0</td>\n",
       "      <td>C18H28O2</td>\n",
       "    </tr>\n",
       "    <tr>\n",
       "      <th>FA 20:0</th>\n",
       "      <td>20</td>\n",
       "      <td>0</td>\n",
       "      <td>20</td>\n",
       "      <td>40</td>\n",
       "      <td>2</td>\n",
       "      <td>240.0</td>\n",
       "      <td>C20H40O2</td>\n",
       "    </tr>\n",
       "    <tr>\n",
       "      <th>FA 20:3</th>\n",
       "      <td>20</td>\n",
       "      <td>3</td>\n",
       "      <td>20</td>\n",
       "      <td>34</td>\n",
       "      <td>2</td>\n",
       "      <td>240.0</td>\n",
       "      <td>C20H34O2</td>\n",
       "    </tr>\n",
       "    <tr>\n",
       "      <th>FA 20:4</th>\n",
       "      <td>20</td>\n",
       "      <td>4</td>\n",
       "      <td>20</td>\n",
       "      <td>32</td>\n",
       "      <td>2</td>\n",
       "      <td>240.0</td>\n",
       "      <td>C20H32O2</td>\n",
       "    </tr>\n",
       "    <tr>\n",
       "      <th>FA 20:5</th>\n",
       "      <td>20</td>\n",
       "      <td>5</td>\n",
       "      <td>20</td>\n",
       "      <td>30</td>\n",
       "      <td>2</td>\n",
       "      <td>240.0</td>\n",
       "      <td>C20H30O2</td>\n",
       "    </tr>\n",
       "  </tbody>\n",
       "</table>\n",
       "</div>"
      ],
      "text/plain": [
       "         Cn  Un   C   H  O  Exact mass Molecular formula\n",
       "FA 18:4  18   4  18  28  2       216.0          C18H28O2\n",
       "FA 20:0  20   0  20  40  2       240.0          C20H40O2\n",
       "FA 20:3  20   3  20  34  2       240.0          C20H34O2\n",
       "FA 20:4  20   4  20  32  2       240.0          C20H32O2\n",
       "FA 20:5  20   5  20  30  2       240.0          C20H30O2"
      ]
     },
     "execution_count": 77,
     "metadata": {},
     "output_type": "execute_result"
    }
   ],
   "source": [
    "df_csv.tail() # 最後の5行を表示"
   ]
  },
  {
   "cell_type": "code",
   "execution_count": 78,
   "metadata": {},
   "outputs": [
    {
     "data": {
      "text/html": [
       "<div>\n",
       "<style scoped>\n",
       "    .dataframe tbody tr th:only-of-type {\n",
       "        vertical-align: middle;\n",
       "    }\n",
       "\n",
       "    .dataframe tbody tr th {\n",
       "        vertical-align: top;\n",
       "    }\n",
       "\n",
       "    .dataframe thead th {\n",
       "        text-align: right;\n",
       "    }\n",
       "</style>\n",
       "<table border=\"1\" class=\"dataframe\">\n",
       "  <thead>\n",
       "    <tr style=\"text-align: right;\">\n",
       "      <th></th>\n",
       "      <th>Cn</th>\n",
       "      <th>Un</th>\n",
       "      <th>C</th>\n",
       "      <th>H</th>\n",
       "      <th>O</th>\n",
       "      <th>Exact mass</th>\n",
       "      <th>Molecular formula</th>\n",
       "    </tr>\n",
       "  </thead>\n",
       "  <tbody>\n",
       "    <tr>\n",
       "      <th>FA 16:0</th>\n",
       "      <td>16</td>\n",
       "      <td>0</td>\n",
       "      <td>16</td>\n",
       "      <td>32</td>\n",
       "      <td>2</td>\n",
       "      <td>192.0</td>\n",
       "      <td>C16H32O2</td>\n",
       "    </tr>\n",
       "    <tr>\n",
       "      <th>FA 16:1</th>\n",
       "      <td>16</td>\n",
       "      <td>1</td>\n",
       "      <td>16</td>\n",
       "      <td>30</td>\n",
       "      <td>2</td>\n",
       "      <td>192.0</td>\n",
       "      <td>C16H30O2</td>\n",
       "    </tr>\n",
       "    <tr>\n",
       "      <th>FA 18:0</th>\n",
       "      <td>18</td>\n",
       "      <td>0</td>\n",
       "      <td>18</td>\n",
       "      <td>36</td>\n",
       "      <td>2</td>\n",
       "      <td>216.0</td>\n",
       "      <td>C18H36O2</td>\n",
       "    </tr>\n",
       "    <tr>\n",
       "      <th>FA 18:1</th>\n",
       "      <td>18</td>\n",
       "      <td>1</td>\n",
       "      <td>18</td>\n",
       "      <td>34</td>\n",
       "      <td>2</td>\n",
       "      <td>216.0</td>\n",
       "      <td>C18H34O2</td>\n",
       "    </tr>\n",
       "    <tr>\n",
       "      <th>FA 18:2</th>\n",
       "      <td>18</td>\n",
       "      <td>2</td>\n",
       "      <td>18</td>\n",
       "      <td>32</td>\n",
       "      <td>2</td>\n",
       "      <td>216.0</td>\n",
       "      <td>C18H32O2</td>\n",
       "    </tr>\n",
       "  </tbody>\n",
       "</table>\n",
       "</div>"
      ],
      "text/plain": [
       "         Cn  Un   C   H  O  Exact mass Molecular formula\n",
       "FA 16:0  16   0  16  32  2       192.0          C16H32O2\n",
       "FA 16:1  16   1  16  30  2       192.0          C16H30O2\n",
       "FA 18:0  18   0  18  36  2       216.0          C18H36O2\n",
       "FA 18:1  18   1  18  34  2       216.0          C18H34O2\n",
       "FA 18:2  18   2  18  32  2       216.0          C18H32O2"
      ]
     },
     "execution_count": 78,
     "metadata": {},
     "output_type": "execute_result"
    }
   ],
   "source": [
    "df_text.head()"
   ]
  },
  {
   "cell_type": "code",
   "execution_count": 79,
   "metadata": {},
   "outputs": [
    {
     "data": {
      "text/html": [
       "<div>\n",
       "<style scoped>\n",
       "    .dataframe tbody tr th:only-of-type {\n",
       "        vertical-align: middle;\n",
       "    }\n",
       "\n",
       "    .dataframe tbody tr th {\n",
       "        vertical-align: top;\n",
       "    }\n",
       "\n",
       "    .dataframe thead th {\n",
       "        text-align: right;\n",
       "    }\n",
       "</style>\n",
       "<table border=\"1\" class=\"dataframe\">\n",
       "  <thead>\n",
       "    <tr style=\"text-align: right;\">\n",
       "      <th></th>\n",
       "      <th>Cn</th>\n",
       "      <th>Un</th>\n",
       "      <th>C</th>\n",
       "      <th>H</th>\n",
       "      <th>O</th>\n",
       "      <th>Exact mass</th>\n",
       "      <th>Molecular formula</th>\n",
       "    </tr>\n",
       "  </thead>\n",
       "  <tbody>\n",
       "    <tr>\n",
       "      <th>FA 16:0</th>\n",
       "      <td>16</td>\n",
       "      <td>0</td>\n",
       "      <td>16</td>\n",
       "      <td>32</td>\n",
       "      <td>2</td>\n",
       "      <td>192.0</td>\n",
       "      <td>C16H32O2</td>\n",
       "    </tr>\n",
       "    <tr>\n",
       "      <th>FA 16:1</th>\n",
       "      <td>16</td>\n",
       "      <td>1</td>\n",
       "      <td>16</td>\n",
       "      <td>30</td>\n",
       "      <td>2</td>\n",
       "      <td>192.0</td>\n",
       "      <td>C16H30O2</td>\n",
       "    </tr>\n",
       "    <tr>\n",
       "      <th>FA 18:0</th>\n",
       "      <td>18</td>\n",
       "      <td>0</td>\n",
       "      <td>18</td>\n",
       "      <td>36</td>\n",
       "      <td>2</td>\n",
       "      <td>216.0</td>\n",
       "      <td>C18H36O2</td>\n",
       "    </tr>\n",
       "  </tbody>\n",
       "</table>\n",
       "</div>"
      ],
      "text/plain": [
       "         Cn  Un   C   H  O  Exact mass Molecular formula\n",
       "FA 16:0  16   0  16  32  2       192.0          C16H32O2\n",
       "FA 16:1  16   1  16  30  2       192.0          C16H30O2\n",
       "FA 18:0  18   0  18  36  2       216.0          C18H36O2"
      ]
     },
     "execution_count": 79,
     "metadata": {},
     "output_type": "execute_result"
    }
   ],
   "source": [
    "df_text.head(3)"
   ]
  },
  {
   "cell_type": "code",
   "execution_count": 80,
   "metadata": {},
   "outputs": [
    {
     "data": {
      "text/html": [
       "<div>\n",
       "<style scoped>\n",
       "    .dataframe tbody tr th:only-of-type {\n",
       "        vertical-align: middle;\n",
       "    }\n",
       "\n",
       "    .dataframe tbody tr th {\n",
       "        vertical-align: top;\n",
       "    }\n",
       "\n",
       "    .dataframe thead th {\n",
       "        text-align: right;\n",
       "    }\n",
       "</style>\n",
       "<table border=\"1\" class=\"dataframe\">\n",
       "  <thead>\n",
       "    <tr style=\"text-align: right;\">\n",
       "      <th></th>\n",
       "      <th>Cn</th>\n",
       "      <th>Un</th>\n",
       "      <th>C</th>\n",
       "      <th>H</th>\n",
       "      <th>O</th>\n",
       "      <th>Exact mass</th>\n",
       "      <th>Molecular formula</th>\n",
       "    </tr>\n",
       "  </thead>\n",
       "  <tbody>\n",
       "    <tr>\n",
       "      <th>FA 18:4</th>\n",
       "      <td>18</td>\n",
       "      <td>4</td>\n",
       "      <td>18</td>\n",
       "      <td>28</td>\n",
       "      <td>2</td>\n",
       "      <td>216.0</td>\n",
       "      <td>C18H28O2</td>\n",
       "    </tr>\n",
       "    <tr>\n",
       "      <th>FA 20:0</th>\n",
       "      <td>20</td>\n",
       "      <td>0</td>\n",
       "      <td>20</td>\n",
       "      <td>40</td>\n",
       "      <td>2</td>\n",
       "      <td>240.0</td>\n",
       "      <td>C20H40O2</td>\n",
       "    </tr>\n",
       "    <tr>\n",
       "      <th>FA 20:3</th>\n",
       "      <td>20</td>\n",
       "      <td>3</td>\n",
       "      <td>20</td>\n",
       "      <td>34</td>\n",
       "      <td>2</td>\n",
       "      <td>240.0</td>\n",
       "      <td>C20H34O2</td>\n",
       "    </tr>\n",
       "    <tr>\n",
       "      <th>FA 20:4</th>\n",
       "      <td>20</td>\n",
       "      <td>4</td>\n",
       "      <td>20</td>\n",
       "      <td>32</td>\n",
       "      <td>2</td>\n",
       "      <td>240.0</td>\n",
       "      <td>C20H32O2</td>\n",
       "    </tr>\n",
       "    <tr>\n",
       "      <th>FA 20:5</th>\n",
       "      <td>20</td>\n",
       "      <td>5</td>\n",
       "      <td>20</td>\n",
       "      <td>30</td>\n",
       "      <td>2</td>\n",
       "      <td>240.0</td>\n",
       "      <td>C20H30O2</td>\n",
       "    </tr>\n",
       "  </tbody>\n",
       "</table>\n",
       "</div>"
      ],
      "text/plain": [
       "         Cn  Un   C   H  O  Exact mass Molecular formula\n",
       "FA 18:4  18   4  18  28  2       216.0          C18H28O2\n",
       "FA 20:0  20   0  20  40  2       240.0          C20H40O2\n",
       "FA 20:3  20   3  20  34  2       240.0          C20H34O2\n",
       "FA 20:4  20   4  20  32  2       240.0          C20H32O2\n",
       "FA 20:5  20   5  20  30  2       240.0          C20H30O2"
      ]
     },
     "execution_count": 80,
     "metadata": {},
     "output_type": "execute_result"
    }
   ],
   "source": [
    "df_text.tail()"
   ]
  },
  {
   "cell_type": "code",
   "execution_count": 81,
   "metadata": {},
   "outputs": [
    {
     "data": {
      "text/html": [
       "<div>\n",
       "<style scoped>\n",
       "    .dataframe tbody tr th:only-of-type {\n",
       "        vertical-align: middle;\n",
       "    }\n",
       "\n",
       "    .dataframe tbody tr th {\n",
       "        vertical-align: top;\n",
       "    }\n",
       "\n",
       "    .dataframe thead th {\n",
       "        text-align: right;\n",
       "    }\n",
       "</style>\n",
       "<table border=\"1\" class=\"dataframe\">\n",
       "  <thead>\n",
       "    <tr style=\"text-align: right;\">\n",
       "      <th></th>\n",
       "      <th>Cn</th>\n",
       "      <th>Un</th>\n",
       "      <th>C</th>\n",
       "      <th>H</th>\n",
       "      <th>O</th>\n",
       "      <th>Exact mass</th>\n",
       "      <th>Molecular formula</th>\n",
       "    </tr>\n",
       "  </thead>\n",
       "  <tbody>\n",
       "    <tr>\n",
       "      <th>FA 16:0</th>\n",
       "      <td>16</td>\n",
       "      <td>0</td>\n",
       "      <td>16</td>\n",
       "      <td>32</td>\n",
       "      <td>2</td>\n",
       "      <td>192</td>\n",
       "      <td>C16H32O2</td>\n",
       "    </tr>\n",
       "    <tr>\n",
       "      <th>FA 16:1</th>\n",
       "      <td>16</td>\n",
       "      <td>1</td>\n",
       "      <td>16</td>\n",
       "      <td>30</td>\n",
       "      <td>2</td>\n",
       "      <td>192</td>\n",
       "      <td>C16H30O2</td>\n",
       "    </tr>\n",
       "    <tr>\n",
       "      <th>FA 18:0</th>\n",
       "      <td>18</td>\n",
       "      <td>0</td>\n",
       "      <td>18</td>\n",
       "      <td>36</td>\n",
       "      <td>2</td>\n",
       "      <td>216</td>\n",
       "      <td>C18H36O2</td>\n",
       "    </tr>\n",
       "    <tr>\n",
       "      <th>FA 18:1</th>\n",
       "      <td>18</td>\n",
       "      <td>1</td>\n",
       "      <td>18</td>\n",
       "      <td>34</td>\n",
       "      <td>2</td>\n",
       "      <td>216</td>\n",
       "      <td>C18H34O2</td>\n",
       "    </tr>\n",
       "    <tr>\n",
       "      <th>FA 18:2</th>\n",
       "      <td>18</td>\n",
       "      <td>2</td>\n",
       "      <td>18</td>\n",
       "      <td>32</td>\n",
       "      <td>2</td>\n",
       "      <td>216</td>\n",
       "      <td>C18H32O2</td>\n",
       "    </tr>\n",
       "  </tbody>\n",
       "</table>\n",
       "</div>"
      ],
      "text/plain": [
       "         Cn  Un   C   H  O  Exact mass Molecular formula\n",
       "FA 16:0  16   0  16  32  2         192          C16H32O2\n",
       "FA 16:1  16   1  16  30  2         192          C16H30O2\n",
       "FA 18:0  18   0  18  36  2         216          C18H36O2\n",
       "FA 18:1  18   1  18  34  2         216          C18H34O2\n",
       "FA 18:2  18   2  18  32  2         216          C18H32O2"
      ]
     },
     "execution_count": 81,
     "metadata": {},
     "output_type": "execute_result"
    }
   ],
   "source": [
    "df_excel.head()"
   ]
  },
  {
   "cell_type": "code",
   "execution_count": 82,
   "metadata": {},
   "outputs": [
    {
     "data": {
      "text/html": [
       "<div>\n",
       "<style scoped>\n",
       "    .dataframe tbody tr th:only-of-type {\n",
       "        vertical-align: middle;\n",
       "    }\n",
       "\n",
       "    .dataframe tbody tr th {\n",
       "        vertical-align: top;\n",
       "    }\n",
       "\n",
       "    .dataframe thead th {\n",
       "        text-align: right;\n",
       "    }\n",
       "</style>\n",
       "<table border=\"1\" class=\"dataframe\">\n",
       "  <thead>\n",
       "    <tr style=\"text-align: right;\">\n",
       "      <th></th>\n",
       "      <th>Cn</th>\n",
       "      <th>Un</th>\n",
       "      <th>C</th>\n",
       "      <th>H</th>\n",
       "      <th>O</th>\n",
       "      <th>Exact mass</th>\n",
       "      <th>Molecular formula</th>\n",
       "    </tr>\n",
       "  </thead>\n",
       "  <tbody>\n",
       "    <tr>\n",
       "      <th>FA 16:0</th>\n",
       "      <td>16</td>\n",
       "      <td>0</td>\n",
       "      <td>16</td>\n",
       "      <td>32</td>\n",
       "      <td>2</td>\n",
       "      <td>192</td>\n",
       "      <td>C16H32O2</td>\n",
       "    </tr>\n",
       "    <tr>\n",
       "      <th>FA 16:1</th>\n",
       "      <td>16</td>\n",
       "      <td>1</td>\n",
       "      <td>16</td>\n",
       "      <td>30</td>\n",
       "      <td>2</td>\n",
       "      <td>192</td>\n",
       "      <td>C16H30O2</td>\n",
       "    </tr>\n",
       "    <tr>\n",
       "      <th>FA 18:0</th>\n",
       "      <td>18</td>\n",
       "      <td>0</td>\n",
       "      <td>18</td>\n",
       "      <td>36</td>\n",
       "      <td>2</td>\n",
       "      <td>216</td>\n",
       "      <td>C18H36O2</td>\n",
       "    </tr>\n",
       "  </tbody>\n",
       "</table>\n",
       "</div>"
      ],
      "text/plain": [
       "         Cn  Un   C   H  O  Exact mass Molecular formula\n",
       "FA 16:0  16   0  16  32  2         192          C16H32O2\n",
       "FA 16:1  16   1  16  30  2         192          C16H30O2\n",
       "FA 18:0  18   0  18  36  2         216          C18H36O2"
      ]
     },
     "execution_count": 82,
     "metadata": {},
     "output_type": "execute_result"
    }
   ],
   "source": [
    "df_excel.head(3)"
   ]
  },
  {
   "cell_type": "code",
   "execution_count": 83,
   "metadata": {},
   "outputs": [
    {
     "data": {
      "text/html": [
       "<div>\n",
       "<style scoped>\n",
       "    .dataframe tbody tr th:only-of-type {\n",
       "        vertical-align: middle;\n",
       "    }\n",
       "\n",
       "    .dataframe tbody tr th {\n",
       "        vertical-align: top;\n",
       "    }\n",
       "\n",
       "    .dataframe thead th {\n",
       "        text-align: right;\n",
       "    }\n",
       "</style>\n",
       "<table border=\"1\" class=\"dataframe\">\n",
       "  <thead>\n",
       "    <tr style=\"text-align: right;\">\n",
       "      <th></th>\n",
       "      <th>Cn</th>\n",
       "      <th>Un</th>\n",
       "      <th>C</th>\n",
       "      <th>H</th>\n",
       "      <th>O</th>\n",
       "      <th>Exact mass</th>\n",
       "      <th>Molecular formula</th>\n",
       "    </tr>\n",
       "  </thead>\n",
       "  <tbody>\n",
       "    <tr>\n",
       "      <th>FA 18:4</th>\n",
       "      <td>18</td>\n",
       "      <td>4</td>\n",
       "      <td>18</td>\n",
       "      <td>28</td>\n",
       "      <td>2</td>\n",
       "      <td>216</td>\n",
       "      <td>C18H28O2</td>\n",
       "    </tr>\n",
       "    <tr>\n",
       "      <th>FA 20:0</th>\n",
       "      <td>20</td>\n",
       "      <td>0</td>\n",
       "      <td>20</td>\n",
       "      <td>40</td>\n",
       "      <td>2</td>\n",
       "      <td>240</td>\n",
       "      <td>C20H40O2</td>\n",
       "    </tr>\n",
       "    <tr>\n",
       "      <th>FA 20:3</th>\n",
       "      <td>20</td>\n",
       "      <td>3</td>\n",
       "      <td>20</td>\n",
       "      <td>34</td>\n",
       "      <td>2</td>\n",
       "      <td>240</td>\n",
       "      <td>C20H34O2</td>\n",
       "    </tr>\n",
       "    <tr>\n",
       "      <th>FA 20:4</th>\n",
       "      <td>20</td>\n",
       "      <td>4</td>\n",
       "      <td>20</td>\n",
       "      <td>32</td>\n",
       "      <td>2</td>\n",
       "      <td>240</td>\n",
       "      <td>C20H32O2</td>\n",
       "    </tr>\n",
       "    <tr>\n",
       "      <th>FA 20:5</th>\n",
       "      <td>20</td>\n",
       "      <td>5</td>\n",
       "      <td>20</td>\n",
       "      <td>30</td>\n",
       "      <td>2</td>\n",
       "      <td>240</td>\n",
       "      <td>C20H30O2</td>\n",
       "    </tr>\n",
       "  </tbody>\n",
       "</table>\n",
       "</div>"
      ],
      "text/plain": [
       "         Cn  Un   C   H  O  Exact mass Molecular formula\n",
       "FA 18:4  18   4  18  28  2         216          C18H28O2\n",
       "FA 20:0  20   0  20  40  2         240          C20H40O2\n",
       "FA 20:3  20   3  20  34  2         240          C20H34O2\n",
       "FA 20:4  20   4  20  32  2         240          C20H32O2\n",
       "FA 20:5  20   5  20  30  2         240          C20H30O2"
      ]
     },
     "execution_count": 83,
     "metadata": {},
     "output_type": "execute_result"
    }
   ],
   "source": [
    "df_excel.tail()"
   ]
  },
  {
   "cell_type": "markdown",
   "metadata": {},
   "source": [
    "`head`は、最初の指定した行数のデータを、`tail`は最後の指定した行数のデータを抽出します。\n",
    "行数を指定しなかった場合は、デフォルトで5行分が表示されます。"
   ]
  },
  {
   "cell_type": "markdown",
   "metadata": {},
   "source": [
    "以上のように、外部ファイルをDataFrameとして読み込んで、どのような形でデータが格納されているか分かれば、特定の行や列を抽出したり、新しい列を追加して計算したりして、出来上がった表を出力する、というのがデータ分析の基本的な流れになります。"
   ]
  },
  {
   "cell_type": "markdown",
   "metadata": {},
   "source": [
    "## 9. Matplotlib"
   ]
  },
  {
   "cell_type": "markdown",
   "metadata": {},
   "source": [
    "Matplotlibは、グラフ描画のためのライブラリです。\n",
    "データの傾向を可視化したりするのに使えます。"
   ]
  },
  {
   "cell_type": "markdown",
   "metadata": {},
   "source": [
    "まずは、`import`でライブラリを読み込みます。\n",
    "Jupyter Notebookを使っている場合は、`%matplotlib inline`と書くことで、ノートブック上でグラフを描画することができます。"
   ]
  },
  {
   "cell_type": "code",
   "execution_count": 84,
   "metadata": {},
   "outputs": [],
   "source": [
    "%matplotlib inline\n",
    "import matplotlib.pyplot as plt"
   ]
  },
  {
   "cell_type": "markdown",
   "metadata": {},
   "source": [
    "ここで、脂肪酸の炭素原子数や二重結合数と物性との関係を解析することを考えましょう。"
   ]
  },
  {
   "cell_type": "code",
   "execution_count": 85,
   "metadata": {},
   "outputs": [
    {
     "data": {
      "image/png": "[encoded data removed]",
      "text/plain": [
       "<Figure size 432x288 with 1 Axes>"
      ]
     },
     "metadata": {
      "needs_background": "light"
     },
     "output_type": "display_data"
    }
   ],
   "source": [
    "abbreviations = ['FA 12:0', 'FA 14:0', 'FA 16:0', 'FA 18:0', 'FA 20:0', 'FA 22:0'] # 脂肪酸分子種の略号\n",
    "Cns = [12, 14, 16, 18, 20, 22] # 脂肪酸の炭素原子数（鎖長）\n",
    "logPs = [3.99, 4.77, 5.55, 6.33, 7.11, 7.89] # 脂肪酸分子種のlogPowの値\n",
    "\n",
    "plt.scatter(Cns, logPs) # 散布図の作成\n",
    "plt.xlabel('Cn') # x軸ラベル\n",
    "plt.ylabel('logPow') # y軸ラベル\n",
    "\n",
    "plt.savefig('logP_saturated-fatty-acids.png') # 散布図を画像ファイル（PNGファイル）として保存\n",
    "plt.show() # 出来上がった散布図を表示"
   ]
  },
  {
   "cell_type": "markdown",
   "metadata": {},
   "source": [
    "上の例では、飽和脂肪酸（炭素鎖に二重結合がない脂肪酸分子種）について、炭素原子数`Cns`とlogPow`logPs`の関係を図示しています。\n",
    "logPowというのは、「水オクタノール分配係数」で、化合物の疎水性の大きさを示しています。\n",
    "今回は、logPowの値は、[LIPID MAPS](https://www.lipidmaps.org/)を参照しました。\n",
    "見て分かるように、炭素原子数が多くなるにつれて、logPowの値も大きくなっていますね。\n",
    "これは、炭素原子数が増えるにつれて、分子の疎水性が増すことを示しています。"
   ]
  },
  {
   "cell_type": "markdown",
   "metadata": {},
   "source": [
    "不飽和脂肪酸（炭素鎖に二重結合がある脂肪酸分子種）についても同様に考えてみます。"
   ]
  },
  {
   "cell_type": "code",
   "execution_count": 86,
   "metadata": {},
   "outputs": [
    {
     "data": {
      "image/png": "[encoded data removed]",
      "text/plain": [
       "<Figure size 432x288 with 1 Axes>"
      ]
     },
     "metadata": {
      "needs_background": "light"
     },
     "output_type": "display_data"
    }
   ],
   "source": [
    "abbreviations = ['FA 18:1', 'FA 18:2', 'FA 18:3', 'FA 18:4']\n",
    "Uns = [1, 2, 3, 4] # 脂肪酸の炭素鎖の二重結合数（不飽和度）\n",
    "logPs = [6.11, 5.88, 5.66, 5.44]\n",
    "\n",
    "plt.scatter(Uns, logPs)\n",
    "plt.xlabel('Un')\n",
    "plt.ylabel('logPow')\n",
    "\n",
    "plt.savefig('logP_C18-fatty-acids.png')\n",
    "plt.show()"
   ]
  },
  {
   "cell_type": "markdown",
   "metadata": {},
   "source": [
    "今度は、炭素原子数は同じで、二重結合数（不飽和度）を変えた時に、logPowがどう変わるかを図示しています。\n",
    "二重結合が増えるにつれて、分子の疎水性が下がることが分かります。"
   ]
  },
  {
   "cell_type": "markdown",
   "metadata": {},
   "source": [
    "次に*in vitro*の実験における細胞中の脂肪酸濃度を図示することを考えます。"
   ]
  },
  {
   "cell_type": "code",
   "execution_count": 87,
   "metadata": {},
   "outputs": [
    {
     "data": {
      "image/png": "[encoded data removed]",
      "text/plain": [
       "<Figure size 432x288 with 1 Axes>"
      ]
     },
     "metadata": {
      "needs_background": "light"
     },
     "output_type": "display_data"
    }
   ],
   "source": [
    "concs_ctrl = [0.1, 0.05] # コントロールの実験におけるアラキドン酸、ドコサヘキサエン酸の濃度\n",
    "concs_cmpd_low = [0.05, 0.07] # 化合物添加（低用量）の実験におけるアラキドン酸、ドコサヘキサエン酸の濃度\n",
    "concs_cmpd_high = [0.01, 0.08] # 化合物添加（高用量）の実験におけるアラキドン酸、ドコサヘキサエン酸の濃度\n",
    "x = np.arange(len(concs_ctrl)) # 表示する脂肪酸の数\n",
    "\n",
    "bar_width = 0.3 # 棒グラフの幅\n",
    "\n",
    "plt.bar(x, concs_ctrl, width=bar_width, align='center') # Controlの条件の棒グラフ\n",
    "plt.bar(x+bar_width, concs_cmpd_low, width=bar_width, align='center') # 化合物添加時（低用量）の条件の棒グラフ\n",
    "plt.bar(x+bar_width*2, concs_cmpd_high, width=bar_width, align='center') # 化合物添加時（高用量）の条件の棒グラフ\n",
    "plt.xticks(x+bar_width, ['AA', 'DHA']) # x軸データ名\n",
    "plt.ylabel('Concentration (uM)')\n",
    "plt.legend(('Control', 'Compound X 0.1uM', 'Compound X 1 uM')) # 凡例\n",
    "\n",
    "plt.savefig('fatty acid concs.png')\n",
    "plt.show()"
   ]
  },
  {
   "cell_type": "markdown",
   "metadata": {},
   "source": [
    "ここでは、3種類の実験条件で、アラキドン酸（arachidonic acid: AA）とドコサヘキサエン酸（docosahexaenoic acid: DHA）の細胞中濃度がどう変わるかを示しています。\n",
    "ちなみに、炭素原子数と二重結合数で表すと、AAは「FA 20:4」、DHAは「FA 22:6」です。\n",
    "化合物Xを細胞に添加すると、AAの産生が抑制され、DHAの産生量が用量依存的に少しずつ増加しているのが分かりますね。\n",
    "なお、今回の例ではn=1の実験データとしてグラフを作成しており、エラーバーはつけていません。"
   ]
  },
  {
   "cell_type": "markdown",
   "metadata": {},
   "source": [
    "## 10. scikit-learn"
   ]
  },
  {
   "cell_type": "markdown",
   "metadata": {},
   "source": [
    "scikit-learnは、機械学習用のライブラリです。"
   ]
  },
  {
   "cell_type": "markdown",
   "metadata": {},
   "source": [
    "ここでは、化合物の物性値から、液体クロマトグラフィー（Liquid Chromatography: LC）における保持時間（Retention Time: RT）を、部分最小二乗（partial least squares: PLS）回帰を用いて予測することを考えてみます。"
   ]
  },
  {
   "cell_type": "markdown",
   "metadata": {},
   "source": [
    "まず、機械学習に用いるデータセットを作成します。"
   ]
  },
  {
   "cell_type": "code",
   "execution_count": 88,
   "metadata": {},
   "outputs": [
    {
     "data": {
      "text/html": [
       "<div>\n",
       "<style scoped>\n",
       "    .dataframe tbody tr th:only-of-type {\n",
       "        vertical-align: middle;\n",
       "    }\n",
       "\n",
       "    .dataframe tbody tr th {\n",
       "        vertical-align: top;\n",
       "    }\n",
       "\n",
       "    .dataframe thead th {\n",
       "        text-align: right;\n",
       "    }\n",
       "</style>\n",
       "<table border=\"1\" class=\"dataframe\">\n",
       "  <thead>\n",
       "    <tr style=\"text-align: right;\">\n",
       "      <th></th>\n",
       "      <th>Heavy atoms</th>\n",
       "      <th>Rotatable Bonds</th>\n",
       "      <th>van der Waals Molecular Volume</th>\n",
       "      <th>logP</th>\n",
       "      <th>Molar Refractivity</th>\n",
       "      <th>Experimental Retention Time (min)</th>\n",
       "    </tr>\n",
       "  </thead>\n",
       "  <tbody>\n",
       "    <tr>\n",
       "      <th>0</th>\n",
       "      <td>14</td>\n",
       "      <td>10</td>\n",
       "      <td>231.10</td>\n",
       "      <td>3.99</td>\n",
       "      <td>59.48</td>\n",
       "      <td>4.53</td>\n",
       "    </tr>\n",
       "    <tr>\n",
       "      <th>1</th>\n",
       "      <td>16</td>\n",
       "      <td>12</td>\n",
       "      <td>265.70</td>\n",
       "      <td>4.77</td>\n",
       "      <td>68.71</td>\n",
       "      <td>7.52</td>\n",
       "    </tr>\n",
       "    <tr>\n",
       "      <th>2</th>\n",
       "      <td>18</td>\n",
       "      <td>14</td>\n",
       "      <td>300.30</td>\n",
       "      <td>5.55</td>\n",
       "      <td>77.95</td>\n",
       "      <td>11.02</td>\n",
       "    </tr>\n",
       "    <tr>\n",
       "      <th>3</th>\n",
       "      <td>18</td>\n",
       "      <td>13</td>\n",
       "      <td>297.66</td>\n",
       "      <td>5.33</td>\n",
       "      <td>77.85</td>\n",
       "      <td>10.59</td>\n",
       "    </tr>\n",
       "    <tr>\n",
       "      <th>4</th>\n",
       "      <td>20</td>\n",
       "      <td>16</td>\n",
       "      <td>334.90</td>\n",
       "      <td>6.33</td>\n",
       "      <td>87.18</td>\n",
       "      <td>14.45</td>\n",
       "    </tr>\n",
       "    <tr>\n",
       "      <th>5</th>\n",
       "      <td>20</td>\n",
       "      <td>15</td>\n",
       "      <td>332.26</td>\n",
       "      <td>6.11</td>\n",
       "      <td>87.09</td>\n",
       "      <td>11.86</td>\n",
       "    </tr>\n",
       "    <tr>\n",
       "      <th>6</th>\n",
       "      <td>20</td>\n",
       "      <td>14</td>\n",
       "      <td>329.62</td>\n",
       "      <td>5.88</td>\n",
       "      <td>86.99</td>\n",
       "      <td>9.76</td>\n",
       "    </tr>\n",
       "    <tr>\n",
       "      <th>7</th>\n",
       "      <td>20</td>\n",
       "      <td>13</td>\n",
       "      <td>326.98</td>\n",
       "      <td>5.66</td>\n",
       "      <td>86.90</td>\n",
       "      <td>8.31</td>\n",
       "    </tr>\n",
       "    <tr>\n",
       "      <th>8</th>\n",
       "      <td>20</td>\n",
       "      <td>12</td>\n",
       "      <td>324.34</td>\n",
       "      <td>5.44</td>\n",
       "      <td>86.81</td>\n",
       "      <td>6.71</td>\n",
       "    </tr>\n",
       "    <tr>\n",
       "      <th>9</th>\n",
       "      <td>22</td>\n",
       "      <td>18</td>\n",
       "      <td>369.50</td>\n",
       "      <td>7.11</td>\n",
       "      <td>96.42</td>\n",
       "      <td>17.52</td>\n",
       "    </tr>\n",
       "    <tr>\n",
       "      <th>10</th>\n",
       "      <td>22</td>\n",
       "      <td>15</td>\n",
       "      <td>361.58</td>\n",
       "      <td>6.44</td>\n",
       "      <td>96.13</td>\n",
       "      <td>11.20</td>\n",
       "    </tr>\n",
       "    <tr>\n",
       "      <th>11</th>\n",
       "      <td>22</td>\n",
       "      <td>14</td>\n",
       "      <td>358.94</td>\n",
       "      <td>6.22</td>\n",
       "      <td>96.04</td>\n",
       "      <td>9.96</td>\n",
       "    </tr>\n",
       "    <tr>\n",
       "      <th>12</th>\n",
       "      <td>22</td>\n",
       "      <td>13</td>\n",
       "      <td>356.30</td>\n",
       "      <td>5.99</td>\n",
       "      <td>95.95</td>\n",
       "      <td>8.27</td>\n",
       "    </tr>\n",
       "    <tr>\n",
       "      <th>13</th>\n",
       "      <td>24</td>\n",
       "      <td>20</td>\n",
       "      <td>404.10</td>\n",
       "      <td>7.89</td>\n",
       "      <td>105.65</td>\n",
       "      <td>20.40</td>\n",
       "    </tr>\n",
       "    <tr>\n",
       "      <th>14</th>\n",
       "      <td>24</td>\n",
       "      <td>16</td>\n",
       "      <td>393.54</td>\n",
       "      <td>7.00</td>\n",
       "      <td>105.27</td>\n",
       "      <td>12.75</td>\n",
       "    </tr>\n",
       "    <tr>\n",
       "      <th>15</th>\n",
       "      <td>24</td>\n",
       "      <td>15</td>\n",
       "      <td>390.90</td>\n",
       "      <td>6.77</td>\n",
       "      <td>105.18</td>\n",
       "      <td>11.52</td>\n",
       "    </tr>\n",
       "    <tr>\n",
       "      <th>16</th>\n",
       "      <td>24</td>\n",
       "      <td>14</td>\n",
       "      <td>388.26</td>\n",
       "      <td>6.55</td>\n",
       "      <td>105.09</td>\n",
       "      <td>9.84</td>\n",
       "    </tr>\n",
       "  </tbody>\n",
       "</table>\n",
       "</div>"
      ],
      "text/plain": [
       "    Heavy atoms  Rotatable Bonds  van der Waals Molecular Volume  logP  \\\n",
       "0            14               10                          231.10  3.99   \n",
       "1            16               12                          265.70  4.77   \n",
       "2            18               14                          300.30  5.55   \n",
       "3            18               13                          297.66  5.33   \n",
       "4            20               16                          334.90  6.33   \n",
       "5            20               15                          332.26  6.11   \n",
       "6            20               14                          329.62  5.88   \n",
       "7            20               13                          326.98  5.66   \n",
       "8            20               12                          324.34  5.44   \n",
       "9            22               18                          369.50  7.11   \n",
       "10           22               15                          361.58  6.44   \n",
       "11           22               14                          358.94  6.22   \n",
       "12           22               13                          356.30  5.99   \n",
       "13           24               20                          404.10  7.89   \n",
       "14           24               16                          393.54  7.00   \n",
       "15           24               15                          390.90  6.77   \n",
       "16           24               14                          388.26  6.55   \n",
       "\n",
       "    Molar Refractivity  Experimental Retention Time (min)  \n",
       "0                59.48                               4.53  \n",
       "1                68.71                               7.52  \n",
       "2                77.95                              11.02  \n",
       "3                77.85                              10.59  \n",
       "4                87.18                              14.45  \n",
       "5                87.09                              11.86  \n",
       "6                86.99                               9.76  \n",
       "7                86.90                               8.31  \n",
       "8                86.81                               6.71  \n",
       "9                96.42                              17.52  \n",
       "10               96.13                              11.20  \n",
       "11               96.04                               9.96  \n",
       "12               95.95                               8.27  \n",
       "13              105.65                              20.40  \n",
       "14              105.27                              12.75  \n",
       "15              105.18                              11.52  \n",
       "16              105.09                               9.84  "
      ]
     },
     "execution_count": 88,
     "metadata": {},
     "output_type": "execute_result"
    }
   ],
   "source": [
    "params_fatty_acids = ['Heavy atoms', 'Rotatable Bonds', 'van der Waals Molecular Volume', 'logP', 'Molar Refractivity']\n",
    "\n",
    "lauric = [14, 10, 231.10, 3.99, 59.48]\n",
    "myristic = [16, 12, 265.70, 4.77, 68.71]\n",
    "palmitic = [18, 14, 300.30, 5.55, 77.95]\n",
    "palmitoleic = [18, 13, 297.66, 5.33, 77.85]\n",
    "stearic = [20, 16, 334.90, 6.33, 87.18]\n",
    "oleic = [20, 15, 332.26, 6.11, 87.09]\n",
    "linoleic = [20, 14, 329.62, 5.88, 86.99]\n",
    "linolenic = [20, 13, 326.98, 5.66, 86.90]\n",
    "stearidonic = [20, 12, 324.34, 5.44, 86.81]\n",
    "arachidic = [22, 18, 369.50, 7.11, 96.42]\n",
    "bishomo_gamma_linolenic = [22, 15, 361.58, 6.44, 96.13]\n",
    "arachidonic = [22, 14, 358.94, 6.22, 96.04]\n",
    "eicosapentaenoic = [22, 13, 356.30, 5.99, 95.95]\n",
    "behenic = [24, 20, 404.10, 7.89, 105.65]\n",
    "adrenic = [24, 16, 393.54, 7.00, 105.27]\n",
    "docosapentaenoic = [24, 15, 390.90, 6.77, 105.18]\n",
    "docosahexaenoic = [24, 14, 388.26, 6.55, 105.09]\n",
    "\n",
    "df_fatty_acids = pd.DataFrame([lauric, myristic, palmitic, palmitoleic, stearic, oleic, linoleic, linolenic, stearidonic, arachidic, bishomo_gamma_linolenic, arachidonic, eicosapentaenoic, behenic, adrenic, docosapentaenoic, docosahexaenoic], columns=params_fatty_acids)\n",
    "df_fatty_acids['Experimental Retention Time (min)'] = [4.53, 7.52, 11.02, 10.59, 14.45, 11.86, 9.76, 8.31, 6.71, 17.52, 11.20, 9.96, 8.27, 20.40, 12.75, 11.52, 9.84]\n",
    "df_fatty_acids"
   ]
  },
  {
   "cell_type": "markdown",
   "metadata": {},
   "source": [
    "ここでは、説明変数として用いる物性パラメーター名のリストを`params_fatty_acids`としています。\n",
    "それぞれの物性値は[LIPID MAPS](https://www.lipidmaps.org/)のデータベースに格納されている情報を参照しています。\n",
    "また、RTは、理化学研究所の[PRIMe](http://prime.psc.riken.jp/)というウェブサイトで公開されている[逆相LCにおけるRTデータ](http://prime.psc.riken.jp/Metabolomics_Software/MrmDatabase/Detail%20of%20LCQqQMS%20method%20(ODS-lipids).xlsx)を参照しています。\n",
    "\n",
    "また、実際は`pandas.read_csv`などでCSVファイルなどを読み込むことが多いと思います。\n",
    "さらに、欠損値補完などのデータ前処理が必要になることが多いです。"
   ]
  },
  {
   "cell_type": "markdown",
   "metadata": {},
   "source": [
    "次に、予測モデルの構築と、モデルを用いた予測値の算出を行います。"
   ]
  },
  {
   "cell_type": "code",
   "execution_count": 89,
   "metadata": {},
   "outputs": [
    {
     "data": {
      "text/html": [
       "<div>\n",
       "<style scoped>\n",
       "    .dataframe tbody tr th:only-of-type {\n",
       "        vertical-align: middle;\n",
       "    }\n",
       "\n",
       "    .dataframe tbody tr th {\n",
       "        vertical-align: top;\n",
       "    }\n",
       "\n",
       "    .dataframe thead th {\n",
       "        text-align: right;\n",
       "    }\n",
       "</style>\n",
       "<table border=\"1\" class=\"dataframe\">\n",
       "  <thead>\n",
       "    <tr style=\"text-align: right;\">\n",
       "      <th></th>\n",
       "      <th>Heavy atoms</th>\n",
       "      <th>Rotatable Bonds</th>\n",
       "      <th>van der Waals Molecular Volume</th>\n",
       "      <th>logP</th>\n",
       "      <th>Molar Refractivity</th>\n",
       "      <th>Experimental Retention Time (min)</th>\n",
       "      <th>Predicted Retention Time (min)</th>\n",
       "      <th>Diff (min)</th>\n",
       "      <th>Accuracy (%)</th>\n",
       "    </tr>\n",
       "  </thead>\n",
       "  <tbody>\n",
       "    <tr>\n",
       "      <th>0</th>\n",
       "      <td>14</td>\n",
       "      <td>10</td>\n",
       "      <td>231.10</td>\n",
       "      <td>3.99</td>\n",
       "      <td>59.48</td>\n",
       "      <td>4.53</td>\n",
       "      <td>4.670111</td>\n",
       "      <td>0.140111</td>\n",
       "      <td>3.092949</td>\n",
       "    </tr>\n",
       "    <tr>\n",
       "      <th>1</th>\n",
       "      <td>16</td>\n",
       "      <td>12</td>\n",
       "      <td>265.70</td>\n",
       "      <td>4.77</td>\n",
       "      <td>68.71</td>\n",
       "      <td>7.52</td>\n",
       "      <td>7.822805</td>\n",
       "      <td>0.302805</td>\n",
       "      <td>4.026656</td>\n",
       "    </tr>\n",
       "    <tr>\n",
       "      <th>2</th>\n",
       "      <td>18</td>\n",
       "      <td>14</td>\n",
       "      <td>300.30</td>\n",
       "      <td>5.55</td>\n",
       "      <td>77.95</td>\n",
       "      <td>11.02</td>\n",
       "      <td>10.974997</td>\n",
       "      <td>-0.045003</td>\n",
       "      <td>-0.408373</td>\n",
       "    </tr>\n",
       "    <tr>\n",
       "      <th>3</th>\n",
       "      <td>18</td>\n",
       "      <td>13</td>\n",
       "      <td>297.66</td>\n",
       "      <td>5.33</td>\n",
       "      <td>77.85</td>\n",
       "      <td>10.59</td>\n",
       "      <td>9.145900</td>\n",
       "      <td>-1.444100</td>\n",
       "      <td>-13.636453</td>\n",
       "    </tr>\n",
       "    <tr>\n",
       "      <th>4</th>\n",
       "      <td>20</td>\n",
       "      <td>16</td>\n",
       "      <td>334.90</td>\n",
       "      <td>6.33</td>\n",
       "      <td>87.18</td>\n",
       "      <td>14.45</td>\n",
       "      <td>14.127691</td>\n",
       "      <td>-0.322309</td>\n",
       "      <td>-2.230511</td>\n",
       "    </tr>\n",
       "    <tr>\n",
       "      <th>5</th>\n",
       "      <td>20</td>\n",
       "      <td>15</td>\n",
       "      <td>332.26</td>\n",
       "      <td>6.11</td>\n",
       "      <td>87.09</td>\n",
       "      <td>11.86</td>\n",
       "      <td>12.298092</td>\n",
       "      <td>0.438092</td>\n",
       "      <td>3.693865</td>\n",
       "    </tr>\n",
       "    <tr>\n",
       "      <th>6</th>\n",
       "      <td>20</td>\n",
       "      <td>14</td>\n",
       "      <td>329.62</td>\n",
       "      <td>5.88</td>\n",
       "      <td>86.99</td>\n",
       "      <td>9.76</td>\n",
       "      <td>10.451955</td>\n",
       "      <td>0.691955</td>\n",
       "      <td>7.089703</td>\n",
       "    </tr>\n",
       "    <tr>\n",
       "      <th>7</th>\n",
       "      <td>20</td>\n",
       "      <td>13</td>\n",
       "      <td>326.98</td>\n",
       "      <td>5.66</td>\n",
       "      <td>86.90</td>\n",
       "      <td>8.31</td>\n",
       "      <td>8.622356</td>\n",
       "      <td>0.312356</td>\n",
       "      <td>3.758799</td>\n",
       "    </tr>\n",
       "    <tr>\n",
       "      <th>8</th>\n",
       "      <td>20</td>\n",
       "      <td>12</td>\n",
       "      <td>324.34</td>\n",
       "      <td>5.44</td>\n",
       "      <td>86.81</td>\n",
       "      <td>6.71</td>\n",
       "      <td>6.792757</td>\n",
       "      <td>0.082757</td>\n",
       "      <td>1.233344</td>\n",
       "    </tr>\n",
       "    <tr>\n",
       "      <th>9</th>\n",
       "      <td>22</td>\n",
       "      <td>18</td>\n",
       "      <td>369.50</td>\n",
       "      <td>7.11</td>\n",
       "      <td>96.42</td>\n",
       "      <td>17.52</td>\n",
       "      <td>17.279884</td>\n",
       "      <td>-0.240116</td>\n",
       "      <td>-1.370525</td>\n",
       "    </tr>\n",
       "    <tr>\n",
       "      <th>10</th>\n",
       "      <td>22</td>\n",
       "      <td>15</td>\n",
       "      <td>361.58</td>\n",
       "      <td>6.44</td>\n",
       "      <td>96.13</td>\n",
       "      <td>11.20</td>\n",
       "      <td>11.775050</td>\n",
       "      <td>0.575050</td>\n",
       "      <td>5.134376</td>\n",
       "    </tr>\n",
       "    <tr>\n",
       "      <th>11</th>\n",
       "      <td>22</td>\n",
       "      <td>14</td>\n",
       "      <td>358.94</td>\n",
       "      <td>6.22</td>\n",
       "      <td>96.04</td>\n",
       "      <td>9.96</td>\n",
       "      <td>9.945451</td>\n",
       "      <td>-0.014549</td>\n",
       "      <td>-0.146071</td>\n",
       "    </tr>\n",
       "    <tr>\n",
       "      <th>12</th>\n",
       "      <td>22</td>\n",
       "      <td>13</td>\n",
       "      <td>356.30</td>\n",
       "      <td>5.99</td>\n",
       "      <td>95.95</td>\n",
       "      <td>8.27</td>\n",
       "      <td>8.098813</td>\n",
       "      <td>-0.171187</td>\n",
       "      <td>-2.069979</td>\n",
       "    </tr>\n",
       "    <tr>\n",
       "      <th>13</th>\n",
       "      <td>24</td>\n",
       "      <td>20</td>\n",
       "      <td>404.10</td>\n",
       "      <td>7.89</td>\n",
       "      <td>105.65</td>\n",
       "      <td>20.40</td>\n",
       "      <td>20.432578</td>\n",
       "      <td>0.032578</td>\n",
       "      <td>0.159696</td>\n",
       "    </tr>\n",
       "    <tr>\n",
       "      <th>14</th>\n",
       "      <td>24</td>\n",
       "      <td>16</td>\n",
       "      <td>393.54</td>\n",
       "      <td>7.00</td>\n",
       "      <td>105.27</td>\n",
       "      <td>12.75</td>\n",
       "      <td>13.098145</td>\n",
       "      <td>0.348145</td>\n",
       "      <td>2.730551</td>\n",
       "    </tr>\n",
       "    <tr>\n",
       "      <th>15</th>\n",
       "      <td>24</td>\n",
       "      <td>15</td>\n",
       "      <td>390.90</td>\n",
       "      <td>6.77</td>\n",
       "      <td>105.18</td>\n",
       "      <td>11.52</td>\n",
       "      <td>11.251507</td>\n",
       "      <td>-0.268493</td>\n",
       "      <td>-2.330671</td>\n",
       "    </tr>\n",
       "    <tr>\n",
       "      <th>16</th>\n",
       "      <td>24</td>\n",
       "      <td>14</td>\n",
       "      <td>388.26</td>\n",
       "      <td>6.55</td>\n",
       "      <td>105.09</td>\n",
       "      <td>9.84</td>\n",
       "      <td>9.421908</td>\n",
       "      <td>-0.418092</td>\n",
       "      <td>-4.248904</td>\n",
       "    </tr>\n",
       "  </tbody>\n",
       "</table>\n",
       "</div>"
      ],
      "text/plain": [
       "    Heavy atoms  Rotatable Bonds  van der Waals Molecular Volume  logP  \\\n",
       "0            14               10                          231.10  3.99   \n",
       "1            16               12                          265.70  4.77   \n",
       "2            18               14                          300.30  5.55   \n",
       "3            18               13                          297.66  5.33   \n",
       "4            20               16                          334.90  6.33   \n",
       "5            20               15                          332.26  6.11   \n",
       "6            20               14                          329.62  5.88   \n",
       "7            20               13                          326.98  5.66   \n",
       "8            20               12                          324.34  5.44   \n",
       "9            22               18                          369.50  7.11   \n",
       "10           22               15                          361.58  6.44   \n",
       "11           22               14                          358.94  6.22   \n",
       "12           22               13                          356.30  5.99   \n",
       "13           24               20                          404.10  7.89   \n",
       "14           24               16                          393.54  7.00   \n",
       "15           24               15                          390.90  6.77   \n",
       "16           24               14                          388.26  6.55   \n",
       "\n",
       "    Molar Refractivity  Experimental Retention Time (min)  \\\n",
       "0                59.48                               4.53   \n",
       "1                68.71                               7.52   \n",
       "2                77.95                              11.02   \n",
       "3                77.85                              10.59   \n",
       "4                87.18                              14.45   \n",
       "5                87.09                              11.86   \n",
       "6                86.99                               9.76   \n",
       "7                86.90                               8.31   \n",
       "8                86.81                               6.71   \n",
       "9                96.42                              17.52   \n",
       "10               96.13                              11.20   \n",
       "11               96.04                               9.96   \n",
       "12               95.95                               8.27   \n",
       "13              105.65                              20.40   \n",
       "14              105.27                              12.75   \n",
       "15              105.18                              11.52   \n",
       "16              105.09                               9.84   \n",
       "\n",
       "    Predicted Retention Time (min)  Diff (min)  Accuracy (%)  \n",
       "0                         4.670111    0.140111      3.092949  \n",
       "1                         7.822805    0.302805      4.026656  \n",
       "2                        10.974997   -0.045003     -0.408373  \n",
       "3                         9.145900   -1.444100    -13.636453  \n",
       "4                        14.127691   -0.322309     -2.230511  \n",
       "5                        12.298092    0.438092      3.693865  \n",
       "6                        10.451955    0.691955      7.089703  \n",
       "7                         8.622356    0.312356      3.758799  \n",
       "8                         6.792757    0.082757      1.233344  \n",
       "9                        17.279884   -0.240116     -1.370525  \n",
       "10                       11.775050    0.575050      5.134376  \n",
       "11                        9.945451   -0.014549     -0.146071  \n",
       "12                        8.098813   -0.171187     -2.069979  \n",
       "13                       20.432578    0.032578      0.159696  \n",
       "14                       13.098145    0.348145      2.730551  \n",
       "15                       11.251507   -0.268493     -2.330671  \n",
       "16                        9.421908   -0.418092     -4.248904  "
      ]
     },
     "execution_count": 89,
     "metadata": {},
     "output_type": "execute_result"
    }
   ],
   "source": [
    "from sklearn.cross_decomposition import PLSRegression\n",
    "\n",
    "\n",
    "X = df_fatty_acids[params_fatty_acids] # 説明変数\n",
    "y = df_fatty_acids['Experimental Retention Time (min)'] # 目的変数\n",
    "\n",
    "pls_rt = PLSRegression()\n",
    "pls_rt.fit(X, y) # PLS予測モデルを構築\n",
    "\n",
    "y_pred = pls_rt.predict(X) # 予測値を算出\n",
    "\n",
    "df_fatty_acids['Predicted Retention Time (min)'] = y_pred\n",
    "df_fatty_acids['Diff (min)'] = df_fatty_acids['Predicted Retention Time (min)'] - df_fatty_acids['Experimental Retention Time (min)']\n",
    "df_fatty_acids['Accuracy (%)'] = (df_fatty_acids['Diff (min)'] / df_fatty_acids['Experimental Retention Time (min)']) * 100\n",
    "df_fatty_acids"
   ]
  },
  {
   "cell_type": "markdown",
   "metadata": {},
   "source": [
    "実測値と予測値の関係を図示してみると、以下のようになります。"
   ]
  },
  {
   "cell_type": "code",
   "execution_count": 90,
   "metadata": {},
   "outputs": [
    {
     "data": {
      "image/png": "[encoded data removed]",
      "text/plain": [
       "<Figure size 432x288 with 1 Axes>"
      ]
     },
     "metadata": {
      "needs_background": "light"
     },
     "output_type": "display_data"
    }
   ],
   "source": [
    "plt.scatter(y, y_pred)\n",
    "plt.xlabel('Experimental Retention Time (min)')\n",
    "plt.ylabel('Predicted Retention Time (min)')\n",
    "\n",
    "plt.savefig('rts_fatty_acids.png')\n",
    "plt.show()"
   ]
  },
  {
   "cell_type": "markdown",
   "metadata": {},
   "source": [
    "今回のデータでは実測値と予測値がよく合っていそうですね。\n",
    "構築したモデルの当てはまり度合いは`r2_score`で確認することができます。"
   ]
  },
  {
   "cell_type": "code",
   "execution_count": 91,
   "metadata": {},
   "outputs": [
    {
     "name": "stdout",
     "output_type": "stream",
     "text": [
      "0.983764472471504\n"
     ]
    }
   ],
   "source": [
    "from sklearn.metrics import r2_score\n",
    "\n",
    "\n",
    "print(r2_score(y, y_pred))"
   ]
  },
  {
   "cell_type": "markdown",
   "metadata": {},
   "source": [
    "`r2_score`は、0から1の間の値をとり、1に近いほど実測値と予測値がよく合っていることを示します。\n",
    "今回のデータでは、`r2_score`が0.98を越える値となっており、かなり当てはまりの良いモデルということになります。"
   ]
  },
  {
   "cell_type": "markdown",
   "metadata": {},
   "source": [
    "今回は、RTを予測するのに、5種類の物性パラメータを用いましたが、このうちどれが予測に大きく寄与しているのかを見てみます。"
   ]
  },
  {
   "cell_type": "code",
   "execution_count": 92,
   "metadata": {},
   "outputs": [
    {
     "data": {
      "text/plain": [
       "array([[-0.72946536],\n",
       "       [ 3.44701558],\n",
       "       [-0.20539651],\n",
       "       [ 1.57377222],\n",
       "       [-0.66393343]])"
      ]
     },
     "execution_count": 92,
     "metadata": {},
     "output_type": "execute_result"
    }
   ],
   "source": [
    "pls_rt.coef_"
   ]
  },
  {
   "cell_type": "markdown",
   "metadata": {},
   "source": [
    "この結果から、今回のデータでは、Rotable Bondsに対する係数（の絶対値）が3.44と最も大きくなっており、この物性値がRTの予測に強く寄与していることが分かります。"
   ]
  },
  {
   "cell_type": "markdown",
   "metadata": {},
   "source": [
    "以上で予測モデル構築に用いたデータの予測精度について議論してきましたが、最後に、モデル構築に用いなかったデータがどれほどの精度で予測できるのか見てみます。"
   ]
  },
  {
   "cell_type": "code",
   "execution_count": 93,
   "metadata": {},
   "outputs": [
    {
     "name": "stdout",
     "output_type": "stream",
     "text": [
      "22.31\n",
      "[[23.58527187]]\n"
     ]
    }
   ],
   "source": [
    "lignoceric = [26, 22, 438.70, 8.67, 114.88]\n",
    "x_lignoceric = pd.DataFrame([lignoceric], columns=params_fatty_acids)\n",
    "y_pred_lignoceric = pls_rt.predict(x_lignoceric)\n",
    "\n",
    "y_exp_lignoceric = 22.31 # 実測値\n",
    "\n",
    "print(y_exp_lignoceric)\n",
    "print(y_pred_lignoceric)"
   ]
  },
  {
   "cell_type": "markdown",
   "metadata": {},
   "source": [
    "ここでは、lignoceric acid（FA 24:0）のRTを予測してみました。\n",
    "予測値と実測値の乖離が1.2分程度となっています。\n",
    "この差を大きいとみるか小さいとみるかは色々な見方があると思いますが、個人的にはやや予測精度が低いと思います。\n",
    "理由としては、lignoceric acidが、モデル構築に用いたデータセットに含まれるどの脂肪酸分子種よりも疎水性が高い分子種であり、モデル構築の段階でlignoceric acidの物性に近いデータのfittingが行われていなかったことも関係していると考えられます。"
   ]
  },
  {
   "cell_type": "markdown",
   "metadata": {},
   "source": [
    "以上のような手順でPLS回帰を行うことができます。\n",
    "ここでは触れませんでしたが、PLS回帰を行うにあたり、潜在変数の数`n_components`も重要になってきます。\n",
    "今回はデフォルト値の`2`を用いましたが、ここを変えることで予測精度も少しずつ変わってきます。\n",
    "また別の機会に解説したいと思います。"
   ]
  }
 ],
 "metadata": {
  "kernelspec": {
   "display_name": "Python 3",
   "language": "python",
   "name": "python3"
  },
  "language_info": {
   "codemirror_mode": {
    "name": "ipython",
    "version": 3
   },
   "file_extension": ".py",
   "mimetype": "text/x-python",
   "name": "python",
   "nbconvert_exporter": "python",
   "pygments_lexer": "ipython3",
   "version": "3.6.10"
  }
 },
 "nbformat": 4,
 "nbformat_minor": 2
}
